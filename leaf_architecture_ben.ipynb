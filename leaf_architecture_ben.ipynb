{
 "cells": [
  {
   "cell_type": "code",
   "execution_count": 5,
   "metadata": {
    "collapsed": false
   },
   "outputs": [],
   "source": [
    "import networkx as nx\n",
    "import matplotlib.pyplot as plt\n",
    "%matplotlib notebook\n",
    "import csv\n",
    "import os\n",
    "import itertools"
   ]
  },
  {
   "cell_type": "code",
   "execution_count": 2,
   "metadata": {
    "collapsed": true
   },
   "outputs": [],
   "source": [
    "def graph_from_data(node_path, edge_path):\n",
    "    # Extract network id from path\n",
    "    network_id = os.path.basename(node_path)\n",
    "    network_id = network_id.split('binary', 1)[0]\n",
    "    network_id = network_id.split('graph', 1)[0]\n",
    "    network_id = network_id[:-1]\n",
    "\n",
    "    nodes = []\n",
    "    with open(node_path) as csvfile:\n",
    "        reader = csv.reader(csvfile, delimiter=' ', quoting=csv.QUOTE_NONNUMERIC)\n",
    "        for row in reader:\n",
    "            nodes.append({'node_id': int(row[0]), 'x': row[1], 'y': row[2]})\n",
    "\n",
    "    edges = []\n",
    "    with open(edge_path) as csvfile:\n",
    "        reader = csv.reader(csvfile, delimiter=' ', quoting=csv.QUOTE_NONNUMERIC)\n",
    "        for row in reader:\n",
    "            edges.append({'node_id1': int(row[0]), 'node_id2': int(row[1]), 'radius': row[2], 'length': row[3]})\n",
    "\n",
    "    G = nx.Graph()\n",
    "    for node in nodes:\n",
    "        G.add_node(node['node_id'], pos=(node['x'], node['y']))\n",
    "    for edge in edges:\n",
    "        G.add_edge(edge['node_id1'], edge['node_id2'], radius=edge['radius'], length=edge['length'])\n",
    "        \n",
    "    return network_id, G"
   ]
  },
  {
   "cell_type": "code",
   "execution_count": 3,
   "metadata": {
    "collapsed": false
   },
   "outputs": [],
   "source": [
    "def graph_generator():\n",
    "    data_list = []\n",
    "    for subset in ['BronxA', 'BronxB']:\n",
    "        file_list = os.listdir('data/networks-{}'.format(subset))\n",
    "        for i in range(len(file_list)//2):\n",
    "            edge_path = os.path.join('data/networks-{}'.format(subset), file_list[2*i])\n",
    "            node_path = os.path.join('data/networks-{}'.format(subset), file_list[2*i + 1])\n",
    "            yield graph_from_data(node_path, edge_path)"
   ]
  },
  {
   "cell_type": "code",
   "execution_count": 6,
   "metadata": {
    "collapsed": false
   },
   "outputs": [
    {
     "name": "stdout",
     "output_type": "stream",
     "text": [
      "BronxA_001 n_nodes: 46930\n",
      "BronxA_001 n_edges: 54232\n",
      "BronxA_002 n_nodes: 116038\n",
      "BronxA_002 n_edges: 165516\n",
      "BronxA_003 n_nodes: 26071\n",
      "BronxA_003 n_edges: 27514\n",
      "BronxA_004 n_nodes: 19859\n",
      "BronxA_004 n_edges: 21678\n",
      "BronxA_005 n_nodes: 34320\n",
      "BronxA_005 n_edges: 45537\n"
     ]
    }
   ],
   "source": [
    "generator = graph_generator()\n",
    "for network_id, graph in itertools.islice(generator, 5):\n",
    "    print(network_id, 'n_nodes:', nx.number_of_nodes(graph))\n",
    "    print(network_id, 'n_edges:', nx.number_of_edges(graph))"
   ]
  },
  {
   "cell_type": "code",
   "execution_count": null,
   "metadata": {
    "collapsed": false
   },
   "outputs": [],
   "source": [
    "pos = nx.get_node_attributes(G,'pos')\n",
    "nx.draw(G, pos=pos, node_size=0.1)"
   ]
  },
  {
   "cell_type": "code",
   "execution_count": null,
   "metadata": {
    "collapsed": true
   },
   "outputs": [],
   "source": []
  }
 ],
 "metadata": {
  "kernelspec": {
   "display_name": "Python 3",
   "language": "python",
   "name": "python3"
  },
  "language_info": {
   "codemirror_mode": {
    "name": "ipython",
    "version": 3
   },
   "file_extension": ".py",
   "mimetype": "text/x-python",
   "name": "python",
   "nbconvert_exporter": "python",
   "pygments_lexer": "ipython3",
   "version": "3.6.0"
  }
 },
 "nbformat": 4,
 "nbformat_minor": 2
}
