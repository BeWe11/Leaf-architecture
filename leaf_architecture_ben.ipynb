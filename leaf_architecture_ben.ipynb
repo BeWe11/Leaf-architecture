{
 "cells": [
  {
   "cell_type": "code",
   "execution_count": 1,
   "metadata": {
    "collapsed": false
   },
   "outputs": [],
   "source": [
    "import networkx as nx\n",
    "import numpy as np\n",
    "import matplotlib.pyplot as plt\n",
    "%matplotlib notebook\n",
    "import csv\n",
    "import os\n",
    "import itertools"
   ]
  },
  {
   "cell_type": "code",
   "execution_count": 2,
   "metadata": {
    "collapsed": false
   },
   "outputs": [],
   "source": [
    "from scripts.utility import *\n",
    "from scripts.decomposer import hierarchical_decomposition"
   ]
  },
  {
   "cell_type": "markdown",
   "metadata": {},
   "source": [
    "# Features\n",
    "It is a good idea to save our features in text files, so that we only have to calculate them once. Later on when we employ clustering, we can just read the values off of these files instead of iterating over the graphs again, which is time consuming."
   ]
  },
  {
   "cell_type": "markdown",
   "metadata": {},
   "source": [
    "## 1. Geometrical"
   ]
  },
  {
   "cell_type": "markdown",
   "metadata": {},
   "source": [
    "### 1.1 Number of nodes and edges"
   ]
  },
  {
   "cell_type": "code",
   "execution_count": null,
   "metadata": {
    "collapsed": false
   },
   "outputs": [],
   "source": [
    "# Calculate the number of nodes and edges for each network and save them to files\n",
    "with open('features/n_nodes.txt', 'w') as node_file, open('features/n_edges.txt', 'w') as edge_file:\n",
    "    for network_id, G in graph_generator():\n",
    "        node_file.write(network_id + '\\t' + str(nx.number_of_nodes(G)) + '\\n') # nx.number_of_nodes() function\n",
    "        edge_file.write(network_id + '\\t' + str(nx.number_of_edges(G)) + '\\n') # use tab character \\t, not two spaces\n",
    "        \n",
    "###NOTE: Have to pull features from github before running script\n",
    "##IDEA: Can calculate every feature on the same loop"
   ]
  },
  {
   "cell_type": "markdown",
   "metadata": {},
   "source": [
    "### 1.2 Average node degree"
   ]
  },
  {
   "cell_type": "code",
   "execution_count": null,
   "metadata": {
    "collapsed": true
   },
   "outputs": [],
   "source": [
    "# Calculate the average node degree, i.e. the average number of edges that are connected to a node,\n",
    "# for each network and write them to a file\n",
    "with open('features/average_node_degree.txt', 'w') as file:\n",
    "    for network_id, G in graph_generator(): # check this access to graph_generator\n",
    "        average_node_degree = np.mean(list(G.degree().values()))\n",
    "        file.write(network_id + '\\t' + str(average_node_degree) + '\\n')"
   ]
  },
  {
   "cell_type": "markdown",
   "metadata": {},
   "source": [
    "### 1.3 Vein density"
   ]
  },
  {
   "cell_type": "markdown",
   "metadata": {},
   "source": [
    "Vein density **$\\sigma$** is calculated by summing the total length of all veins and dividing by total leaf area.\n"
   ]
  },
  {
   "cell_type": "code",
   "execution_count": 3,
   "metadata": {
    "collapsed": false
   },
   "outputs": [
    {
     "ename": "ZeroDivisionError",
     "evalue": "float division by zero",
     "output_type": "error",
     "traceback": [
      "\u001b[0;31m---------------------------------------------------------------------------\u001b[0m",
      "\u001b[0;31mZeroDivisionError\u001b[0m                         Traceback (most recent call last)",
      "\u001b[0;32m<ipython-input-3-f92f454dcd24>\u001b[0m in \u001b[0;36m<module>\u001b[0;34m()\u001b[0m\n\u001b[1;32m      1\u001b[0m \u001b[0;32mwith\u001b[0m \u001b[0mopen\u001b[0m\u001b[0;34m(\u001b[0m\u001b[0;34m'features/vein_density.txt'\u001b[0m\u001b[0;34m,\u001b[0m \u001b[0;34m'w'\u001b[0m\u001b[0;34m)\u001b[0m \u001b[0;32mas\u001b[0m \u001b[0mfile\u001b[0m\u001b[0;34m:\u001b[0m\u001b[0;34m\u001b[0m\u001b[0m\n\u001b[1;32m      2\u001b[0m     \u001b[0;32mfor\u001b[0m \u001b[0mnetwork_id\u001b[0m\u001b[0;34m,\u001b[0m \u001b[0mG\u001b[0m \u001b[0;32min\u001b[0m \u001b[0mgraph_generator\u001b[0m\u001b[0;34m(\u001b[0m\u001b[0;34m)\u001b[0m\u001b[0;34m:\u001b[0m \u001b[0;31m# check this access to graph_generator\u001b[0m\u001b[0;34m\u001b[0m\u001b[0m\n\u001b[0;32m----> 3\u001b[0;31m         \u001b[0mvein_density\u001b[0m \u001b[0;34m=\u001b[0m \u001b[0mget_vein_density\u001b[0m\u001b[0;34m(\u001b[0m\u001b[0mG\u001b[0m\u001b[0;34m)\u001b[0m\u001b[0;34m\u001b[0m\u001b[0m\n\u001b[0m\u001b[1;32m      4\u001b[0m         \u001b[0mfile\u001b[0m\u001b[0;34m.\u001b[0m\u001b[0mwrite\u001b[0m\u001b[0;34m(\u001b[0m\u001b[0mnetwork_id\u001b[0m \u001b[0;34m+\u001b[0m \u001b[0;34m'\\t'\u001b[0m \u001b[0;34m+\u001b[0m \u001b[0mstr\u001b[0m\u001b[0;34m(\u001b[0m\u001b[0mvein_density\u001b[0m\u001b[0;34m)\u001b[0m \u001b[0;34m+\u001b[0m \u001b[0;34m'\\n'\u001b[0m\u001b[0;34m)\u001b[0m\u001b[0;34m\u001b[0m\u001b[0m\n",
      "\u001b[0;32m/Users/Ben/Documents/Projects/Python/Leaf-architecture/scripts/utility.py\u001b[0m in \u001b[0;36mget_vein_density\u001b[0;34m(G)\u001b[0m\n\u001b[1;32m    165\u001b[0m     \u001b[0mtotal_vein_length\u001b[0m \u001b[0;34m=\u001b[0m \u001b[0mget_total_vein_length\u001b[0m\u001b[0;34m(\u001b[0m\u001b[0mG\u001b[0m\u001b[0;34m)\u001b[0m\u001b[0;34m\u001b[0m\u001b[0m\n\u001b[1;32m    166\u001b[0m     \u001b[0mtotal_leaf_area\u001b[0m \u001b[0;34m=\u001b[0m \u001b[0mget_total_leaf_area\u001b[0m\u001b[0;34m(\u001b[0m\u001b[0mG\u001b[0m\u001b[0;34m)\u001b[0m\u001b[0;34m\u001b[0m\u001b[0m\n\u001b[0;32m--> 167\u001b[0;31m     \u001b[0;32mreturn\u001b[0m \u001b[0mtotal_vein_length\u001b[0m \u001b[0;34m/\u001b[0m \u001b[0mtotal_leaf_area\u001b[0m\u001b[0;34m\u001b[0m\u001b[0m\n\u001b[0m\u001b[1;32m    168\u001b[0m \u001b[0;34m\u001b[0m\u001b[0m\n\u001b[1;32m    169\u001b[0m \u001b[0;32mdef\u001b[0m \u001b[0mget_areole_density\u001b[0m\u001b[0;34m(\u001b[0m\u001b[0mG\u001b[0m\u001b[0;34m)\u001b[0m\u001b[0;34m:\u001b[0m\u001b[0;34m\u001b[0m\u001b[0m\n",
      "\u001b[0;31mZeroDivisionError\u001b[0m: float division by zero"
     ]
    }
   ],
   "source": [
    "with open('features/vein_density.txt', 'w') as file:\n",
    "    for network_id, G in graph_generator(): # check this access to graph_generator\n",
    "        vein_density = get_vein_density(G)\n",
    "        file.write(network_id + '\\t' + str(vein_density) + '\\n')"
   ]
  },
  {
   "cell_type": "markdown",
   "metadata": {},
   "source": [
    "### 1.4 Areole area"
   ]
  },
  {
   "cell_type": "markdown",
   "metadata": {},
   "source": [
    "Areole area **$A$** is obtained calculating basic cycle areas using the standard formula for the area of a general polygon."
   ]
  },
  {
   "cell_type": "code",
   "execution_count": null,
   "metadata": {
    "collapsed": true
   },
   "outputs": [],
   "source": [
    "with open('features/areole_area.txt', 'w') as file:\n",
    "    for network_id, G in graph_generator(): \n",
    "        total_leaf_area = get_total_leaf_area(G)\n",
    "        file.write(network_id + '\\t' + str(total_leaf_area) + '\\n')"
   ]
  },
  {
   "cell_type": "markdown",
   "metadata": {},
   "source": [
    "### 1.5 Areole density "
   ]
  },
  {
   "cell_type": "markdown",
   "metadata": {},
   "source": [
    "Areole density **$\\rho_A$** is the total number of areoles divided by leaf area."
   ]
  },
  {
   "cell_type": "code",
   "execution_count": null,
   "metadata": {
    "collapsed": true
   },
   "outputs": [],
   "source": [
    "with open('features/areole_density.txt', 'w') as file:\n",
    "    for network_id, G in graph_generator():\n",
    "        areole_density = get_areole_density(G)\n",
    "        file.write(network_id + '\\t' + str(areole_density) + '\\n')        "
   ]
  },
  {
   "cell_type": "markdown",
   "metadata": {},
   "source": [
    "### 1.6 Weighted vein thickness"
   ]
  },
  {
   "cell_type": "markdown",
   "metadata": {},
   "source": [
    "Weighted vein thickness **$d$** is calculated as the total sum of the product radius*length of each\n",
    "    individual vein segment divided by total vein length"
   ]
  },
  {
   "cell_type": "code",
   "execution_count": null,
   "metadata": {
    "collapsed": false
   },
   "outputs": [],
   "source": [
    "with open('features/weighted_vein_thickness.txt','w') as file:\n",
    "    for network_id, graph in graph_generator():\n",
    "        weighted_vein_thickness = get_weighted_vein_thickness(G)\n",
    "        file.write(network_id + '\\t' + str(weighted_vein_thickness) + '\\n')"
   ]
  },
  {
   "cell_type": "markdown",
   "metadata": {},
   "source": [
    "## 2. Topological"
   ]
  },
  {
   "cell_type": "markdown",
   "metadata": {
    "collapsed": false
   },
   "source": [
    "### 2.1 Nesting number"
   ]
  },
  {
   "cell_type": "code",
   "execution_count": null,
   "metadata": {
    "collapsed": true
   },
   "outputs": [],
   "source": [
    "with open('features/nesting_number.txt', 'w') as file, open('features/nesting_number_no_ext.txt', 'w') as file_no_ext:\n",
    "    for network_id, graph in graph_generator(): # check this access to graph_generator\n",
    "        H = clean_graph(graph)\n",
    "        nesting_number, nesting_number_no_ext = get_nesting_numbers(H)\n",
    "        file.write(network_id + '\\t' + str(nesting_number) + '\\n')\n",
    "        file_no_ext.write(network_id + '\\t' + str(nesting_number_no_ext) + '\\n')"
   ]
  },
  {
   "cell_type": "markdown",
   "metadata": {},
   "source": [
    "# Data Analysis"
   ]
  },
  {
   "cell_type": "code",
   "execution_count": null,
   "metadata": {
    "collapsed": false
   },
   "outputs": [],
   "source": [
    "generator = graph_generator()"
   ]
  },
  {
   "cell_type": "code",
   "execution_count": null,
   "metadata": {
    "collapsed": false
   },
   "outputs": [],
   "source": [
    "_, G = next(generator)"
   ]
  },
  {
   "cell_type": "code",
   "execution_count": null,
   "metadata": {
    "collapsed": false
   },
   "outputs": [],
   "source": [
    "pos = nx.get_node_attributes(G, 'pos')\n",
    "nx.draw(G, pos=pos, node_size=0.01)\n",
    "\n",
    "#basis = nx.cycle_basis(G)\n",
    "#subgraph_nodes = list(itertools.chain(*basis[:700])) # TODO: how to generate connected subgraphs?\n",
    "#H = clean_graph(G.subgraph(subgraph_nodes))\n",
    "#pos = nx.get_node_attributes(H,'pos')\n",
    "#nx.draw(H, pos=pos, node_size=0.0001)"
   ]
  },
  {
   "cell_type": "code",
   "execution_count": null,
   "metadata": {
    "collapsed": false
   },
   "outputs": [],
   "source": [
    "nesting_number, nesting_number_no_ext = get_nesting_numbers(H)\n",
    "print(nesting_number)\n",
    "print(nesting_number_no_ext)"
   ]
  },
  {
   "cell_type": "code",
   "execution_count": null,
   "metadata": {
    "collapsed": true
   },
   "outputs": [],
   "source": [
    "_, G = get_graph_from_data()"
   ]
  }
 ],
 "metadata": {
  "kernelspec": {
   "display_name": "Python 3",
   "language": "python",
   "name": "python3"
  },
  "language_info": {
   "codemirror_mode": {
    "name": "ipython",
    "version": 3
   },
   "file_extension": ".py",
   "mimetype": "text/x-python",
   "name": "python",
   "nbconvert_exporter": "python",
   "pygments_lexer": "ipython3",
   "version": "3.6.0"
  }
 },
 "nbformat": 4,
 "nbformat_minor": 2
}
