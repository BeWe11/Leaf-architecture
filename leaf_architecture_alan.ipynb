{
 "cells": [
  {
   "cell_type": "code",
   "execution_count": 1,
   "metadata": {
    "collapsed": false
   },
   "outputs": [],
   "source": [
    "import networkx as nx\n",
    "import numpy as np\n",
    "from sklearn.decomposition import PCA\n",
    "from sklearn.preprocessing import normalize\n",
    "import matplotlib.pyplot as plt\n",
    "%matplotlib notebook\n",
    "import csv\n",
    "import os\n",
    "import itertools"
   ]
  },
  {
   "cell_type": "code",
   "execution_count": 2,
   "metadata": {
    "collapsed": false
   },
   "outputs": [],
   "source": [
    "from scripts.utility import *\n",
    "from scripts.features import *"
   ]
  },
  {
   "cell_type": "markdown",
   "metadata": {},
   "source": [
    "# Features\n",
    "It is a good idea to save our features in text files, so that we only have to calculate them once. Later on when we employ clustering, we can just read the values off of these files instead of iterating over the graphs again, which is time consuming."
   ]
  },
  {
   "cell_type": "markdown",
   "metadata": {},
   "source": [
    "## 1. Geometrical"
   ]
  },
  {
   "cell_type": "markdown",
   "metadata": {},
   "source": [
    "### 1.1 Number of nodes and edges"
   ]
  },
  {
   "cell_type": "code",
   "execution_count": null,
   "metadata": {
    "collapsed": false
   },
   "outputs": [],
   "source": [
    "# Calculate the number of nodes and edges for each network and save them to files\n",
    "with open('features/n_nodes.txt', 'w') as node_file, open('features/n_edges.txt', 'w') as edge_file:\n",
    "    for network_id, G in graph_generator():\n",
    "        node_file.write(network_id + '\\t' + str(nx.number_of_nodes(G)) + '\\n') # nx.number_of_nodes() function\n",
    "        edge_file.write(network_id + '\\t' + str(nx.number_of_edges(G)) + '\\n') # use tab character \\t, not two spaces\n",
    "        \n",
    "###NOTE: Have to pull features from github before running script\n",
    "##IDEA: Can calculate every feature on the same loop"
   ]
  },
  {
   "cell_type": "markdown",
   "metadata": {},
   "source": [
    "### 1.2 Average node degree"
   ]
  },
  {
   "cell_type": "code",
   "execution_count": null,
   "metadata": {
    "collapsed": true
   },
   "outputs": [],
   "source": [
    "# Calculate the average node degree, i.e. the average number of edges that are connected to a node,\n",
    "# for each network and write them to a file\n",
    "with open('features/average_node_degree.txt', 'w') as file:\n",
    "    for network_id, G in graph_generator(): # check this access to graph_generator\n",
    "        average_node_degree = np.mean(list(G.degree().values()))\n",
    "        file.write(network_id + '\\t' + str(average_node_degree) + '\\n')"
   ]
  },
  {
   "cell_type": "markdown",
   "metadata": {},
   "source": [
    "### 1.3 Vein density"
   ]
  },
  {
   "cell_type": "markdown",
   "metadata": {},
   "source": [
    "Vein density **$\\sigma$** is calculated by summing the total length of all veins and dividing by total leaf area.\n"
   ]
  },
  {
   "cell_type": "code",
   "execution_count": null,
   "metadata": {
    "collapsed": false
   },
   "outputs": [],
   "source": [
    "save_feature(vein_density, skip_existing=True, clean=False)"
   ]
  },
  {
   "cell_type": "markdown",
   "metadata": {},
   "source": [
    "### 1.4 Areole area"
   ]
  },
  {
   "cell_type": "markdown",
   "metadata": {},
   "source": [
    "Areole area **$A$** is obtained calculating basic cycle areas using the standard formula for the area of a general polygon."
   ]
  },
  {
   "cell_type": "code",
   "execution_count": null,
   "metadata": {
    "collapsed": false
   },
   "outputs": [],
   "source": [
    "save_feature(areole_area, skip_existing=True, clean=False)"
   ]
  },
  {
   "cell_type": "markdown",
   "metadata": {},
   "source": [
    "### 1.5 Areole density "
   ]
  },
  {
   "cell_type": "markdown",
   "metadata": {},
   "source": [
    "Areole density **$\\rho_A$** is the total number of areoles divided by leaf area."
   ]
  },
  {
   "cell_type": "code",
   "execution_count": null,
   "metadata": {
    "collapsed": false
   },
   "outputs": [],
   "source": [
    "save_feature(areole_density, skip_existing=True, clean=False)"
   ]
  },
  {
   "cell_type": "markdown",
   "metadata": {},
   "source": [
    "### 1.6 Weighted vein thickness"
   ]
  },
  {
   "cell_type": "markdown",
   "metadata": {},
   "source": [
    "Weighted vein thickness **$d$** is calculated as the total sum of the product radius*length of each\n",
    "    individual vein segment divided by total vein length"
   ]
  },
  {
   "cell_type": "code",
   "execution_count": null,
   "metadata": {
    "collapsed": false
   },
   "outputs": [],
   "source": [
    "save_feature(weighted_vein_thickness, skip_existing=True, clean=False)"
   ]
  },
  {
   "cell_type": "markdown",
   "metadata": {},
   "source": [
    "## 2. Topological"
   ]
  },
  {
   "cell_type": "markdown",
   "metadata": {
    "collapsed": false
   },
   "source": [
    "### 2.1 Nesting number"
   ]
  },
  {
   "cell_type": "code",
   "execution_count": null,
   "metadata": {
    "collapsed": false
   },
   "outputs": [],
   "source": [
    "save_feature(nesting_numbers, skip_existing=True, clean=True)"
   ]
  },
  {
   "cell_type": "markdown",
   "metadata": {},
   "source": [
    "# Data Analysis"
   ]
  },
  {
   "cell_type": "code",
   "execution_count": null,
   "metadata": {
    "collapsed": false
   },
   "outputs": [],
   "source": [
    "generator = graph_generator()"
   ]
  },
  {
   "cell_type": "code",
   "execution_count": null,
   "metadata": {
    "collapsed": false
   },
   "outputs": [],
   "source": [
    "_, G = next(generator)"
   ]
  },
  {
   "cell_type": "markdown",
   "metadata": {},
   "source": [
    "## Principal Component Analysis"
   ]
  },
  {
   "cell_type": "code",
   "execution_count": 3,
   "metadata": {
    "collapsed": false
   },
   "outputs": [],
   "source": [
    "data = read_features()"
   ]
  },
  {
   "cell_type": "code",
   "execution_count": 4,
   "metadata": {
    "collapsed": true
   },
   "outputs": [],
   "source": [
    "feature_names = [\n",
    "    'topological_length',\n",
    "    'nesting_number_unweighted',\n",
    "    'nesting_number_weighted',\n",
    "    'vein_density',\n",
    "    'areole_area',\n",
    "    'areole_density',\n",
    "    #'average_node_degree',\n",
    "    #'n_edges',\n",
    "    #'n_nodes',\n",
    "    #'nesting_number_weighted_no_ext',\n",
    "    #'nesting_number_unweighted_no_ext',\n",
    "    'weighted_vein_thickness',\n",
    "]"
   ]
  },
  {
   "cell_type": "code",
   "execution_count": 5,
   "metadata": {
    "collapsed": false
   },
   "outputs": [],
   "source": [
    "network_ids = sorted(data['nesting_number_weighted'].keys())\n",
    "X = []\n",
    "for feature_name in feature_names:\n",
    "    if feature_name in ['n_nodes', 'n_edges']:\n",
    "        continue\n",
    "    row = [data[feature_name][network_id] for network_id in network_ids]\n",
    "    X.append(row)\n",
    "X = np.array(X)\n",
    "X = X.T"
   ]
  },
  {
   "cell_type": "code",
   "execution_count": 6,
   "metadata": {
    "collapsed": false
   },
   "outputs": [
    {
     "data": {
      "text/plain": [
       "PCA(copy=True, iterated_power='auto', n_components=None, random_state=None,\n",
       "  svd_solver='auto', tol=0.0, whiten=False)"
      ]
     },
     "execution_count": 6,
     "metadata": {},
     "output_type": "execute_result"
    }
   ],
   "source": [
    "pca = PCA()\n",
    "pca.fit(normalize(X))"
   ]
  },
  {
   "cell_type": "code",
   "execution_count": 9,
   "metadata": {
    "collapsed": false
   },
   "outputs": [
    {
     "name": "stdout",
     "output_type": "stream",
     "text": [
      "[  9.98524511e-01   1.39815749e-03   6.37594548e-05   1.32887664e-05\n",
      "   2.79728533e-07   3.94497457e-09   1.08801487e-13]\n"
     ]
    }
   ],
   "source": [
    "normalized_eigenvalues = pca.explained_variance_ratio_\n",
    "print(normalized_eigenvalues)"
   ]
  },
  {
   "cell_type": "code",
   "execution_count": 8,
   "metadata": {
    "collapsed": false
   },
   "outputs": [
    {
     "name": "stdout",
     "output_type": "stream",
     "text": [
      "[[  3.76389553e-01   8.08353645e-02   4.43458343e-02   1.70383612e-03\n",
      "   -2.75999921e-04   8.79330992e-06   9.21860627e-01]\n",
      " [  9.00900748e-01   1.58323953e-01   1.15119911e-01   9.01738416e-03\n",
      "   -1.44462340e-05   1.89629347e-05  -3.87269236e-01]\n",
      " [  2.13075352e-01  -6.95316327e-01  -6.86065958e-01  -1.97990666e-02\n",
      "    2.53055089e-03  -8.21131639e-05   7.01343854e-03]\n",
      " [  3.59182544e-02  -6.95980041e-01   7.16886119e-01  -1.00756448e-02\n",
      "   -1.23665086e-02   2.63899916e-04   1.18926690e-02]\n",
      " [  4.14475764e-03   2.11270440e-02   8.93490341e-03  -9.89174890e-01\n",
      "    1.44786347e-01  -4.70795935e-03  -2.10301551e-03]\n",
      " [ -5.84432585e-04  -9.99027619e-03   9.42416183e-03   1.44754876e-01\n",
      "    9.89075443e-01  -2.42147839e-02   6.90102911e-04]\n",
      " [  7.01665877e-06   1.95917233e-05  -2.21817641e-05   1.15129031e-03\n",
      "   -2.46428703e-02  -9.99695655e-01  -3.48581854e-06]]\n"
     ]
    }
   ],
   "source": [
    "principal_components = pca.components_\n",
    "print(principal_components)"
   ]
  },
  {
   "cell_type": "code",
   "execution_count": null,
   "metadata": {
    "collapsed": false
   },
   "outputs": [],
   "source": [
    "print(scaled_principal_components[0:])"
   ]
  },
  {
   "cell_type": "code",
   "execution_count": 10,
   "metadata": {
    "collapsed": false
   },
   "outputs": [
    {
     "name": "stdout",
     "output_type": "stream",
     "text": [
      "[[  3.75834194e-01   8.07160927e-02   4.42804025e-02   1.70132213e-03\n",
      "   -2.75592686e-04   8.78033548e-06   9.20500432e-01]\n",
      " [  1.25960113e-03   2.21361821e-04   1.60955766e-04   1.26077232e-05\n",
      "   -2.01981104e-08   2.65131693e-08  -5.41463384e-04]\n",
      " [  1.35855683e-05  -4.43329899e-05  -4.37431914e-05  -1.26237770e-06\n",
      "    1.61346545e-07  -5.23549056e-09   4.47173018e-07]\n",
      " [  4.77309291e-07  -9.24871617e-06   9.52653215e-06  -1.33892889e-07\n",
      "   -1.64335644e-07   3.50690433e-09   1.58038900e-07]\n",
      " [  1.15940697e-09   5.90983702e-09   2.49934742e-09  -2.76700440e-07\n",
      "    4.05008725e-08  -1.31695056e-09  -5.88273442e-10]\n",
      " [ -2.30557169e-12  -3.94113855e-11   3.71780788e-11   5.71054304e-10\n",
      "    3.90187747e-09  -9.55267068e-11   2.72243844e-12]\n",
      " [  7.63422907e-19   2.13160862e-18  -2.41340891e-18   1.25262097e-16\n",
      "   -2.68118093e-15  -1.08768374e-13  -3.79262240e-19]]\n"
     ]
    }
   ],
   "source": [
    "scaled_principal_components = (normalized_eigenvalues * principal_components.T).T  ##Variance contribution matrix\n",
    "#print(scaled_principal_components)"
   ]
  },
  {
   "cell_type": "code",
   "execution_count": 11,
   "metadata": {
    "collapsed": false
   },
   "outputs": [],
   "source": [
    "relative_feature_contributions = abs(np.sum(scaled_principal_components, axis=0))    ##Feature contribution total variance\n",
    "#print(relative_feature_contributions)"
   ]
  },
  {
   "cell_type": "code",
   "execution_count": 12,
   "metadata": {
    "collapsed": false
   },
   "outputs": [
    {
     "data": {
      "application/javascript": [
       "/* Put everything inside the global mpl namespace */\n",
       "window.mpl = {};\n",
       "\n",
       "\n",
       "mpl.get_websocket_type = function() {\n",
       "    if (typeof(WebSocket) !== 'undefined') {\n",
       "        return WebSocket;\n",
       "    } else if (typeof(MozWebSocket) !== 'undefined') {\n",
       "        return MozWebSocket;\n",
       "    } else {\n",
       "        alert('Your browser does not have WebSocket support.' +\n",
       "              'Please try Chrome, Safari or Firefox ≥ 6. ' +\n",
       "              'Firefox 4 and 5 are also supported but you ' +\n",
       "              'have to enable WebSockets in about:config.');\n",
       "    };\n",
       "}\n",
       "\n",
       "mpl.figure = function(figure_id, websocket, ondownload, parent_element) {\n",
       "    this.id = figure_id;\n",
       "\n",
       "    this.ws = websocket;\n",
       "\n",
       "    this.supports_binary = (this.ws.binaryType != undefined);\n",
       "\n",
       "    if (!this.supports_binary) {\n",
       "        var warnings = document.getElementById(\"mpl-warnings\");\n",
       "        if (warnings) {\n",
       "            warnings.style.display = 'block';\n",
       "            warnings.textContent = (\n",
       "                \"This browser does not support binary websocket messages. \" +\n",
       "                    \"Performance may be slow.\");\n",
       "        }\n",
       "    }\n",
       "\n",
       "    this.imageObj = new Image();\n",
       "\n",
       "    this.context = undefined;\n",
       "    this.message = undefined;\n",
       "    this.canvas = undefined;\n",
       "    this.rubberband_canvas = undefined;\n",
       "    this.rubberband_context = undefined;\n",
       "    this.format_dropdown = undefined;\n",
       "\n",
       "    this.image_mode = 'full';\n",
       "\n",
       "    this.root = $('<div/>');\n",
       "    this._root_extra_style(this.root)\n",
       "    this.root.attr('style', 'display: inline-block');\n",
       "\n",
       "    $(parent_element).append(this.root);\n",
       "\n",
       "    this._init_header(this);\n",
       "    this._init_canvas(this);\n",
       "    this._init_toolbar(this);\n",
       "\n",
       "    var fig = this;\n",
       "\n",
       "    this.waiting = false;\n",
       "\n",
       "    this.ws.onopen =  function () {\n",
       "            fig.send_message(\"supports_binary\", {value: fig.supports_binary});\n",
       "            fig.send_message(\"send_image_mode\", {});\n",
       "            if (mpl.ratio != 1) {\n",
       "                fig.send_message(\"set_dpi_ratio\", {'dpi_ratio': mpl.ratio});\n",
       "            }\n",
       "            fig.send_message(\"refresh\", {});\n",
       "        }\n",
       "\n",
       "    this.imageObj.onload = function() {\n",
       "            if (fig.image_mode == 'full') {\n",
       "                // Full images could contain transparency (where diff images\n",
       "                // almost always do), so we need to clear the canvas so that\n",
       "                // there is no ghosting.\n",
       "                fig.context.clearRect(0, 0, fig.canvas.width, fig.canvas.height);\n",
       "            }\n",
       "            fig.context.drawImage(fig.imageObj, 0, 0);\n",
       "        };\n",
       "\n",
       "    this.imageObj.onunload = function() {\n",
       "        this.ws.close();\n",
       "    }\n",
       "\n",
       "    this.ws.onmessage = this._make_on_message_function(this);\n",
       "\n",
       "    this.ondownload = ondownload;\n",
       "}\n",
       "\n",
       "mpl.figure.prototype._init_header = function() {\n",
       "    var titlebar = $(\n",
       "        '<div class=\"ui-dialog-titlebar ui-widget-header ui-corner-all ' +\n",
       "        'ui-helper-clearfix\"/>');\n",
       "    var titletext = $(\n",
       "        '<div class=\"ui-dialog-title\" style=\"width: 100%; ' +\n",
       "        'text-align: center; padding: 3px;\"/>');\n",
       "    titlebar.append(titletext)\n",
       "    this.root.append(titlebar);\n",
       "    this.header = titletext[0];\n",
       "}\n",
       "\n",
       "\n",
       "\n",
       "mpl.figure.prototype._canvas_extra_style = function(canvas_div) {\n",
       "\n",
       "}\n",
       "\n",
       "\n",
       "mpl.figure.prototype._root_extra_style = function(canvas_div) {\n",
       "\n",
       "}\n",
       "\n",
       "mpl.figure.prototype._init_canvas = function() {\n",
       "    var fig = this;\n",
       "\n",
       "    var canvas_div = $('<div/>');\n",
       "\n",
       "    canvas_div.attr('style', 'position: relative; clear: both; outline: 0');\n",
       "\n",
       "    function canvas_keyboard_event(event) {\n",
       "        return fig.key_event(event, event['data']);\n",
       "    }\n",
       "\n",
       "    canvas_div.keydown('key_press', canvas_keyboard_event);\n",
       "    canvas_div.keyup('key_release', canvas_keyboard_event);\n",
       "    this.canvas_div = canvas_div\n",
       "    this._canvas_extra_style(canvas_div)\n",
       "    this.root.append(canvas_div);\n",
       "\n",
       "    var canvas = $('<canvas/>');\n",
       "    canvas.addClass('mpl-canvas');\n",
       "    canvas.attr('style', \"left: 0; top: 0; z-index: 0; outline: 0\")\n",
       "\n",
       "    this.canvas = canvas[0];\n",
       "    this.context = canvas[0].getContext(\"2d\");\n",
       "\n",
       "    var backingStore = this.context.backingStorePixelRatio ||\n",
       "\tthis.context.webkitBackingStorePixelRatio ||\n",
       "\tthis.context.mozBackingStorePixelRatio ||\n",
       "\tthis.context.msBackingStorePixelRatio ||\n",
       "\tthis.context.oBackingStorePixelRatio ||\n",
       "\tthis.context.backingStorePixelRatio || 1;\n",
       "\n",
       "    mpl.ratio = (window.devicePixelRatio || 1) / backingStore;\n",
       "\n",
       "    var rubberband = $('<canvas/>');\n",
       "    rubberband.attr('style', \"position: absolute; left: 0; top: 0; z-index: 1;\")\n",
       "\n",
       "    var pass_mouse_events = true;\n",
       "\n",
       "    canvas_div.resizable({\n",
       "        start: function(event, ui) {\n",
       "            pass_mouse_events = false;\n",
       "        },\n",
       "        resize: function(event, ui) {\n",
       "            fig.request_resize(ui.size.width, ui.size.height);\n",
       "        },\n",
       "        stop: function(event, ui) {\n",
       "            pass_mouse_events = true;\n",
       "            fig.request_resize(ui.size.width, ui.size.height);\n",
       "        },\n",
       "    });\n",
       "\n",
       "    function mouse_event_fn(event) {\n",
       "        if (pass_mouse_events)\n",
       "            return fig.mouse_event(event, event['data']);\n",
       "    }\n",
       "\n",
       "    rubberband.mousedown('button_press', mouse_event_fn);\n",
       "    rubberband.mouseup('button_release', mouse_event_fn);\n",
       "    // Throttle sequential mouse events to 1 every 20ms.\n",
       "    rubberband.mousemove('motion_notify', mouse_event_fn);\n",
       "\n",
       "    rubberband.mouseenter('figure_enter', mouse_event_fn);\n",
       "    rubberband.mouseleave('figure_leave', mouse_event_fn);\n",
       "\n",
       "    canvas_div.on(\"wheel\", function (event) {\n",
       "        event = event.originalEvent;\n",
       "        event['data'] = 'scroll'\n",
       "        if (event.deltaY < 0) {\n",
       "            event.step = 1;\n",
       "        } else {\n",
       "            event.step = -1;\n",
       "        }\n",
       "        mouse_event_fn(event);\n",
       "    });\n",
       "\n",
       "    canvas_div.append(canvas);\n",
       "    canvas_div.append(rubberband);\n",
       "\n",
       "    this.rubberband = rubberband;\n",
       "    this.rubberband_canvas = rubberband[0];\n",
       "    this.rubberband_context = rubberband[0].getContext(\"2d\");\n",
       "    this.rubberband_context.strokeStyle = \"#000000\";\n",
       "\n",
       "    this._resize_canvas = function(width, height) {\n",
       "        // Keep the size of the canvas, canvas container, and rubber band\n",
       "        // canvas in synch.\n",
       "        canvas_div.css('width', width)\n",
       "        canvas_div.css('height', height)\n",
       "\n",
       "        canvas.attr('width', width * mpl.ratio);\n",
       "        canvas.attr('height', height * mpl.ratio);\n",
       "        canvas.attr('style', 'width: ' + width + 'px; height: ' + height + 'px;');\n",
       "\n",
       "        rubberband.attr('width', width);\n",
       "        rubberband.attr('height', height);\n",
       "    }\n",
       "\n",
       "    // Set the figure to an initial 600x600px, this will subsequently be updated\n",
       "    // upon first draw.\n",
       "    this._resize_canvas(600, 600);\n",
       "\n",
       "    // Disable right mouse context menu.\n",
       "    $(this.rubberband_canvas).bind(\"contextmenu\",function(e){\n",
       "        return false;\n",
       "    });\n",
       "\n",
       "    function set_focus () {\n",
       "        canvas.focus();\n",
       "        canvas_div.focus();\n",
       "    }\n",
       "\n",
       "    window.setTimeout(set_focus, 100);\n",
       "}\n",
       "\n",
       "mpl.figure.prototype._init_toolbar = function() {\n",
       "    var fig = this;\n",
       "\n",
       "    var nav_element = $('<div/>')\n",
       "    nav_element.attr('style', 'width: 100%');\n",
       "    this.root.append(nav_element);\n",
       "\n",
       "    // Define a callback function for later on.\n",
       "    function toolbar_event(event) {\n",
       "        return fig.toolbar_button_onclick(event['data']);\n",
       "    }\n",
       "    function toolbar_mouse_event(event) {\n",
       "        return fig.toolbar_button_onmouseover(event['data']);\n",
       "    }\n",
       "\n",
       "    for(var toolbar_ind in mpl.toolbar_items) {\n",
       "        var name = mpl.toolbar_items[toolbar_ind][0];\n",
       "        var tooltip = mpl.toolbar_items[toolbar_ind][1];\n",
       "        var image = mpl.toolbar_items[toolbar_ind][2];\n",
       "        var method_name = mpl.toolbar_items[toolbar_ind][3];\n",
       "\n",
       "        if (!name) {\n",
       "            // put a spacer in here.\n",
       "            continue;\n",
       "        }\n",
       "        var button = $('<button/>');\n",
       "        button.addClass('ui-button ui-widget ui-state-default ui-corner-all ' +\n",
       "                        'ui-button-icon-only');\n",
       "        button.attr('role', 'button');\n",
       "        button.attr('aria-disabled', 'false');\n",
       "        button.click(method_name, toolbar_event);\n",
       "        button.mouseover(tooltip, toolbar_mouse_event);\n",
       "\n",
       "        var icon_img = $('<span/>');\n",
       "        icon_img.addClass('ui-button-icon-primary ui-icon');\n",
       "        icon_img.addClass(image);\n",
       "        icon_img.addClass('ui-corner-all');\n",
       "\n",
       "        var tooltip_span = $('<span/>');\n",
       "        tooltip_span.addClass('ui-button-text');\n",
       "        tooltip_span.html(tooltip);\n",
       "\n",
       "        button.append(icon_img);\n",
       "        button.append(tooltip_span);\n",
       "\n",
       "        nav_element.append(button);\n",
       "    }\n",
       "\n",
       "    var fmt_picker_span = $('<span/>');\n",
       "\n",
       "    var fmt_picker = $('<select/>');\n",
       "    fmt_picker.addClass('mpl-toolbar-option ui-widget ui-widget-content');\n",
       "    fmt_picker_span.append(fmt_picker);\n",
       "    nav_element.append(fmt_picker_span);\n",
       "    this.format_dropdown = fmt_picker[0];\n",
       "\n",
       "    for (var ind in mpl.extensions) {\n",
       "        var fmt = mpl.extensions[ind];\n",
       "        var option = $(\n",
       "            '<option/>', {selected: fmt === mpl.default_extension}).html(fmt);\n",
       "        fmt_picker.append(option)\n",
       "    }\n",
       "\n",
       "    // Add hover states to the ui-buttons\n",
       "    $( \".ui-button\" ).hover(\n",
       "        function() { $(this).addClass(\"ui-state-hover\");},\n",
       "        function() { $(this).removeClass(\"ui-state-hover\");}\n",
       "    );\n",
       "\n",
       "    var status_bar = $('<span class=\"mpl-message\"/>');\n",
       "    nav_element.append(status_bar);\n",
       "    this.message = status_bar[0];\n",
       "}\n",
       "\n",
       "mpl.figure.prototype.request_resize = function(x_pixels, y_pixels) {\n",
       "    // Request matplotlib to resize the figure. Matplotlib will then trigger a resize in the client,\n",
       "    // which will in turn request a refresh of the image.\n",
       "    this.send_message('resize', {'width': x_pixels, 'height': y_pixels});\n",
       "}\n",
       "\n",
       "mpl.figure.prototype.send_message = function(type, properties) {\n",
       "    properties['type'] = type;\n",
       "    properties['figure_id'] = this.id;\n",
       "    this.ws.send(JSON.stringify(properties));\n",
       "}\n",
       "\n",
       "mpl.figure.prototype.send_draw_message = function() {\n",
       "    if (!this.waiting) {\n",
       "        this.waiting = true;\n",
       "        this.ws.send(JSON.stringify({type: \"draw\", figure_id: this.id}));\n",
       "    }\n",
       "}\n",
       "\n",
       "\n",
       "mpl.figure.prototype.handle_save = function(fig, msg) {\n",
       "    var format_dropdown = fig.format_dropdown;\n",
       "    var format = format_dropdown.options[format_dropdown.selectedIndex].value;\n",
       "    fig.ondownload(fig, format);\n",
       "}\n",
       "\n",
       "\n",
       "mpl.figure.prototype.handle_resize = function(fig, msg) {\n",
       "    var size = msg['size'];\n",
       "    if (size[0] != fig.canvas.width || size[1] != fig.canvas.height) {\n",
       "        fig._resize_canvas(size[0], size[1]);\n",
       "        fig.send_message(\"refresh\", {});\n",
       "    };\n",
       "}\n",
       "\n",
       "mpl.figure.prototype.handle_rubberband = function(fig, msg) {\n",
       "    var x0 = msg['x0'] / mpl.ratio;\n",
       "    var y0 = (fig.canvas.height - msg['y0']) / mpl.ratio;\n",
       "    var x1 = msg['x1'] / mpl.ratio;\n",
       "    var y1 = (fig.canvas.height - msg['y1']) / mpl.ratio;\n",
       "    x0 = Math.floor(x0) + 0.5;\n",
       "    y0 = Math.floor(y0) + 0.5;\n",
       "    x1 = Math.floor(x1) + 0.5;\n",
       "    y1 = Math.floor(y1) + 0.5;\n",
       "    var min_x = Math.min(x0, x1);\n",
       "    var min_y = Math.min(y0, y1);\n",
       "    var width = Math.abs(x1 - x0);\n",
       "    var height = Math.abs(y1 - y0);\n",
       "\n",
       "    fig.rubberband_context.clearRect(\n",
       "        0, 0, fig.canvas.width, fig.canvas.height);\n",
       "\n",
       "    fig.rubberband_context.strokeRect(min_x, min_y, width, height);\n",
       "}\n",
       "\n",
       "mpl.figure.prototype.handle_figure_label = function(fig, msg) {\n",
       "    // Updates the figure title.\n",
       "    fig.header.textContent = msg['label'];\n",
       "}\n",
       "\n",
       "mpl.figure.prototype.handle_cursor = function(fig, msg) {\n",
       "    var cursor = msg['cursor'];\n",
       "    switch(cursor)\n",
       "    {\n",
       "    case 0:\n",
       "        cursor = 'pointer';\n",
       "        break;\n",
       "    case 1:\n",
       "        cursor = 'default';\n",
       "        break;\n",
       "    case 2:\n",
       "        cursor = 'crosshair';\n",
       "        break;\n",
       "    case 3:\n",
       "        cursor = 'move';\n",
       "        break;\n",
       "    }\n",
       "    fig.rubberband_canvas.style.cursor = cursor;\n",
       "}\n",
       "\n",
       "mpl.figure.prototype.handle_message = function(fig, msg) {\n",
       "    fig.message.textContent = msg['message'];\n",
       "}\n",
       "\n",
       "mpl.figure.prototype.handle_draw = function(fig, msg) {\n",
       "    // Request the server to send over a new figure.\n",
       "    fig.send_draw_message();\n",
       "}\n",
       "\n",
       "mpl.figure.prototype.handle_image_mode = function(fig, msg) {\n",
       "    fig.image_mode = msg['mode'];\n",
       "}\n",
       "\n",
       "mpl.figure.prototype.updated_canvas_event = function() {\n",
       "    // Called whenever the canvas gets updated.\n",
       "    this.send_message(\"ack\", {});\n",
       "}\n",
       "\n",
       "// A function to construct a web socket function for onmessage handling.\n",
       "// Called in the figure constructor.\n",
       "mpl.figure.prototype._make_on_message_function = function(fig) {\n",
       "    return function socket_on_message(evt) {\n",
       "        if (evt.data instanceof Blob) {\n",
       "            /* FIXME: We get \"Resource interpreted as Image but\n",
       "             * transferred with MIME type text/plain:\" errors on\n",
       "             * Chrome.  But how to set the MIME type?  It doesn't seem\n",
       "             * to be part of the websocket stream */\n",
       "            evt.data.type = \"image/png\";\n",
       "\n",
       "            /* Free the memory for the previous frames */\n",
       "            if (fig.imageObj.src) {\n",
       "                (window.URL || window.webkitURL).revokeObjectURL(\n",
       "                    fig.imageObj.src);\n",
       "            }\n",
       "\n",
       "            fig.imageObj.src = (window.URL || window.webkitURL).createObjectURL(\n",
       "                evt.data);\n",
       "            fig.updated_canvas_event();\n",
       "            fig.waiting = false;\n",
       "            return;\n",
       "        }\n",
       "        else if (typeof evt.data === 'string' && evt.data.slice(0, 21) == \"data:image/png;base64\") {\n",
       "            fig.imageObj.src = evt.data;\n",
       "            fig.updated_canvas_event();\n",
       "            fig.waiting = false;\n",
       "            return;\n",
       "        }\n",
       "\n",
       "        var msg = JSON.parse(evt.data);\n",
       "        var msg_type = msg['type'];\n",
       "\n",
       "        // Call the  \"handle_{type}\" callback, which takes\n",
       "        // the figure and JSON message as its only arguments.\n",
       "        try {\n",
       "            var callback = fig[\"handle_\" + msg_type];\n",
       "        } catch (e) {\n",
       "            console.log(\"No handler for the '\" + msg_type + \"' message type: \", msg);\n",
       "            return;\n",
       "        }\n",
       "\n",
       "        if (callback) {\n",
       "            try {\n",
       "                // console.log(\"Handling '\" + msg_type + \"' message: \", msg);\n",
       "                callback(fig, msg);\n",
       "            } catch (e) {\n",
       "                console.log(\"Exception inside the 'handler_\" + msg_type + \"' callback:\", e, e.stack, msg);\n",
       "            }\n",
       "        }\n",
       "    };\n",
       "}\n",
       "\n",
       "// from http://stackoverflow.com/questions/1114465/getting-mouse-location-in-canvas\n",
       "mpl.findpos = function(e) {\n",
       "    //this section is from http://www.quirksmode.org/js/events_properties.html\n",
       "    var targ;\n",
       "    if (!e)\n",
       "        e = window.event;\n",
       "    if (e.target)\n",
       "        targ = e.target;\n",
       "    else if (e.srcElement)\n",
       "        targ = e.srcElement;\n",
       "    if (targ.nodeType == 3) // defeat Safari bug\n",
       "        targ = targ.parentNode;\n",
       "\n",
       "    // jQuery normalizes the pageX and pageY\n",
       "    // pageX,Y are the mouse positions relative to the document\n",
       "    // offset() returns the position of the element relative to the document\n",
       "    var x = e.pageX - $(targ).offset().left;\n",
       "    var y = e.pageY - $(targ).offset().top;\n",
       "\n",
       "    return {\"x\": x, \"y\": y};\n",
       "};\n",
       "\n",
       "/*\n",
       " * return a copy of an object with only non-object keys\n",
       " * we need this to avoid circular references\n",
       " * http://stackoverflow.com/a/24161582/3208463\n",
       " */\n",
       "function simpleKeys (original) {\n",
       "  return Object.keys(original).reduce(function (obj, key) {\n",
       "    if (typeof original[key] !== 'object')\n",
       "        obj[key] = original[key]\n",
       "    return obj;\n",
       "  }, {});\n",
       "}\n",
       "\n",
       "mpl.figure.prototype.mouse_event = function(event, name) {\n",
       "    var canvas_pos = mpl.findpos(event)\n",
       "\n",
       "    if (name === 'button_press')\n",
       "    {\n",
       "        this.canvas.focus();\n",
       "        this.canvas_div.focus();\n",
       "    }\n",
       "\n",
       "    var x = canvas_pos.x * mpl.ratio;\n",
       "    var y = canvas_pos.y * mpl.ratio;\n",
       "\n",
       "    this.send_message(name, {x: x, y: y, button: event.button,\n",
       "                             step: event.step,\n",
       "                             guiEvent: simpleKeys(event)});\n",
       "\n",
       "    /* This prevents the web browser from automatically changing to\n",
       "     * the text insertion cursor when the button is pressed.  We want\n",
       "     * to control all of the cursor setting manually through the\n",
       "     * 'cursor' event from matplotlib */\n",
       "    event.preventDefault();\n",
       "    return false;\n",
       "}\n",
       "\n",
       "mpl.figure.prototype._key_event_extra = function(event, name) {\n",
       "    // Handle any extra behaviour associated with a key event\n",
       "}\n",
       "\n",
       "mpl.figure.prototype.key_event = function(event, name) {\n",
       "\n",
       "    // Prevent repeat events\n",
       "    if (name == 'key_press')\n",
       "    {\n",
       "        if (event.which === this._key)\n",
       "            return;\n",
       "        else\n",
       "            this._key = event.which;\n",
       "    }\n",
       "    if (name == 'key_release')\n",
       "        this._key = null;\n",
       "\n",
       "    var value = '';\n",
       "    if (event.ctrlKey && event.which != 17)\n",
       "        value += \"ctrl+\";\n",
       "    if (event.altKey && event.which != 18)\n",
       "        value += \"alt+\";\n",
       "    if (event.shiftKey && event.which != 16)\n",
       "        value += \"shift+\";\n",
       "\n",
       "    value += 'k';\n",
       "    value += event.which.toString();\n",
       "\n",
       "    this._key_event_extra(event, name);\n",
       "\n",
       "    this.send_message(name, {key: value,\n",
       "                             guiEvent: simpleKeys(event)});\n",
       "    return false;\n",
       "}\n",
       "\n",
       "mpl.figure.prototype.toolbar_button_onclick = function(name) {\n",
       "    if (name == 'download') {\n",
       "        this.handle_save(this, null);\n",
       "    } else {\n",
       "        this.send_message(\"toolbar_button\", {name: name});\n",
       "    }\n",
       "};\n",
       "\n",
       "mpl.figure.prototype.toolbar_button_onmouseover = function(tooltip) {\n",
       "    this.message.textContent = tooltip;\n",
       "};\n",
       "mpl.toolbar_items = [[\"Home\", \"Reset original view\", \"fa fa-home icon-home\", \"home\"], [\"Back\", \"Back to  previous view\", \"fa fa-arrow-left icon-arrow-left\", \"back\"], [\"Forward\", \"Forward to next view\", \"fa fa-arrow-right icon-arrow-right\", \"forward\"], [\"\", \"\", \"\", \"\"], [\"Pan\", \"Pan axes with left mouse, zoom with right\", \"fa fa-arrows icon-move\", \"pan\"], [\"Zoom\", \"Zoom to rectangle\", \"fa fa-square-o icon-check-empty\", \"zoom\"], [\"\", \"\", \"\", \"\"], [\"Download\", \"Download plot\", \"fa fa-floppy-o icon-save\", \"download\"]];\n",
       "\n",
       "mpl.extensions = [\"eps\", \"pdf\", \"png\", \"ps\", \"raw\", \"svg\"];\n",
       "\n",
       "mpl.default_extension = \"png\";var comm_websocket_adapter = function(comm) {\n",
       "    // Create a \"websocket\"-like object which calls the given IPython comm\n",
       "    // object with the appropriate methods. Currently this is a non binary\n",
       "    // socket, so there is still some room for performance tuning.\n",
       "    var ws = {};\n",
       "\n",
       "    ws.close = function() {\n",
       "        comm.close()\n",
       "    };\n",
       "    ws.send = function(m) {\n",
       "        //console.log('sending', m);\n",
       "        comm.send(m);\n",
       "    };\n",
       "    // Register the callback with on_msg.\n",
       "    comm.on_msg(function(msg) {\n",
       "        //console.log('receiving', msg['content']['data'], msg);\n",
       "        // Pass the mpl event to the overriden (by mpl) onmessage function.\n",
       "        ws.onmessage(msg['content']['data'])\n",
       "    });\n",
       "    return ws;\n",
       "}\n",
       "\n",
       "mpl.mpl_figure_comm = function(comm, msg) {\n",
       "    // This is the function which gets called when the mpl process\n",
       "    // starts-up an IPython Comm through the \"matplotlib\" channel.\n",
       "\n",
       "    var id = msg.content.data.id;\n",
       "    // Get hold of the div created by the display call when the Comm\n",
       "    // socket was opened in Python.\n",
       "    var element = $(\"#\" + id);\n",
       "    var ws_proxy = comm_websocket_adapter(comm)\n",
       "\n",
       "    function ondownload(figure, format) {\n",
       "        window.open(figure.imageObj.src);\n",
       "    }\n",
       "\n",
       "    var fig = new mpl.figure(id, ws_proxy,\n",
       "                           ondownload,\n",
       "                           element.get(0));\n",
       "\n",
       "    // Call onopen now - mpl needs it, as it is assuming we've passed it a real\n",
       "    // web socket which is closed, not our websocket->open comm proxy.\n",
       "    ws_proxy.onopen();\n",
       "\n",
       "    fig.parent_element = element.get(0);\n",
       "    fig.cell_info = mpl.find_output_cell(\"<div id='\" + id + \"'></div>\");\n",
       "    if (!fig.cell_info) {\n",
       "        console.error(\"Failed to find cell for figure\", id, fig);\n",
       "        return;\n",
       "    }\n",
       "\n",
       "    var output_index = fig.cell_info[2]\n",
       "    var cell = fig.cell_info[0];\n",
       "\n",
       "};\n",
       "\n",
       "mpl.figure.prototype.handle_close = function(fig, msg) {\n",
       "    var width = fig.canvas.width/mpl.ratio\n",
       "    fig.root.unbind('remove')\n",
       "\n",
       "    // Update the output cell to use the data from the current canvas.\n",
       "    fig.push_to_output();\n",
       "    var dataURL = fig.canvas.toDataURL();\n",
       "    // Re-enable the keyboard manager in IPython - without this line, in FF,\n",
       "    // the notebook keyboard shortcuts fail.\n",
       "    IPython.keyboard_manager.enable()\n",
       "    $(fig.parent_element).html('<img src=\"' + dataURL + '\" width=\"' + width + '\">');\n",
       "    fig.close_ws(fig, msg);\n",
       "}\n",
       "\n",
       "mpl.figure.prototype.close_ws = function(fig, msg){\n",
       "    fig.send_message('closing', msg);\n",
       "    // fig.ws.close()\n",
       "}\n",
       "\n",
       "mpl.figure.prototype.push_to_output = function(remove_interactive) {\n",
       "    // Turn the data on the canvas into data in the output cell.\n",
       "    var width = this.canvas.width/mpl.ratio\n",
       "    var dataURL = this.canvas.toDataURL();\n",
       "    this.cell_info[1]['text/html'] = '<img src=\"' + dataURL + '\" width=\"' + width + '\">';\n",
       "}\n",
       "\n",
       "mpl.figure.prototype.updated_canvas_event = function() {\n",
       "    // Tell IPython that the notebook contents must change.\n",
       "    IPython.notebook.set_dirty(true);\n",
       "    this.send_message(\"ack\", {});\n",
       "    var fig = this;\n",
       "    // Wait a second, then push the new image to the DOM so\n",
       "    // that it is saved nicely (might be nice to debounce this).\n",
       "    setTimeout(function () { fig.push_to_output() }, 1000);\n",
       "}\n",
       "\n",
       "mpl.figure.prototype._init_toolbar = function() {\n",
       "    var fig = this;\n",
       "\n",
       "    var nav_element = $('<div/>')\n",
       "    nav_element.attr('style', 'width: 100%');\n",
       "    this.root.append(nav_element);\n",
       "\n",
       "    // Define a callback function for later on.\n",
       "    function toolbar_event(event) {\n",
       "        return fig.toolbar_button_onclick(event['data']);\n",
       "    }\n",
       "    function toolbar_mouse_event(event) {\n",
       "        return fig.toolbar_button_onmouseover(event['data']);\n",
       "    }\n",
       "\n",
       "    for(var toolbar_ind in mpl.toolbar_items){\n",
       "        var name = mpl.toolbar_items[toolbar_ind][0];\n",
       "        var tooltip = mpl.toolbar_items[toolbar_ind][1];\n",
       "        var image = mpl.toolbar_items[toolbar_ind][2];\n",
       "        var method_name = mpl.toolbar_items[toolbar_ind][3];\n",
       "\n",
       "        if (!name) { continue; };\n",
       "\n",
       "        var button = $('<button class=\"btn btn-default\" href=\"#\" title=\"' + name + '\"><i class=\"fa ' + image + ' fa-lg\"></i></button>');\n",
       "        button.click(method_name, toolbar_event);\n",
       "        button.mouseover(tooltip, toolbar_mouse_event);\n",
       "        nav_element.append(button);\n",
       "    }\n",
       "\n",
       "    // Add the status bar.\n",
       "    var status_bar = $('<span class=\"mpl-message\" style=\"text-align:right; float: right;\"/>');\n",
       "    nav_element.append(status_bar);\n",
       "    this.message = status_bar[0];\n",
       "\n",
       "    // Add the close button to the window.\n",
       "    var buttongrp = $('<div class=\"btn-group inline pull-right\"></div>');\n",
       "    var button = $('<button class=\"btn btn-mini btn-primary\" href=\"#\" title=\"Stop Interaction\"><i class=\"fa fa-power-off icon-remove icon-large\"></i></button>');\n",
       "    button.click(function (evt) { fig.handle_close(fig, {}); } );\n",
       "    button.mouseover('Stop Interaction', toolbar_mouse_event);\n",
       "    buttongrp.append(button);\n",
       "    var titlebar = this.root.find($('.ui-dialog-titlebar'));\n",
       "    titlebar.prepend(buttongrp);\n",
       "}\n",
       "\n",
       "mpl.figure.prototype._root_extra_style = function(el){\n",
       "    var fig = this\n",
       "    el.on(\"remove\", function(){\n",
       "\tfig.close_ws(fig, {});\n",
       "    });\n",
       "}\n",
       "\n",
       "mpl.figure.prototype._canvas_extra_style = function(el){\n",
       "    // this is important to make the div 'focusable\n",
       "    el.attr('tabindex', 0)\n",
       "    // reach out to IPython and tell the keyboard manager to turn it's self\n",
       "    // off when our div gets focus\n",
       "\n",
       "    // location in version 3\n",
       "    if (IPython.notebook.keyboard_manager) {\n",
       "        IPython.notebook.keyboard_manager.register_events(el);\n",
       "    }\n",
       "    else {\n",
       "        // location in version 2\n",
       "        IPython.keyboard_manager.register_events(el);\n",
       "    }\n",
       "\n",
       "}\n",
       "\n",
       "mpl.figure.prototype._key_event_extra = function(event, name) {\n",
       "    var manager = IPython.notebook.keyboard_manager;\n",
       "    if (!manager)\n",
       "        manager = IPython.keyboard_manager;\n",
       "\n",
       "    // Check for shift+enter\n",
       "    if (event.shiftKey && event.which == 13) {\n",
       "        this.canvas_div.blur();\n",
       "        // select the cell after this one\n",
       "        var index = IPython.notebook.find_cell_index(this.cell_info[0]);\n",
       "        IPython.notebook.select(index + 1);\n",
       "    }\n",
       "}\n",
       "\n",
       "mpl.figure.prototype.handle_save = function(fig, msg) {\n",
       "    fig.ondownload(fig, null);\n",
       "}\n",
       "\n",
       "\n",
       "mpl.find_output_cell = function(html_output) {\n",
       "    // Return the cell and output element which can be found *uniquely* in the notebook.\n",
       "    // Note - this is a bit hacky, but it is done because the \"notebook_saving.Notebook\"\n",
       "    // IPython event is triggered only after the cells have been serialised, which for\n",
       "    // our purposes (turning an active figure into a static one), is too late.\n",
       "    var cells = IPython.notebook.get_cells();\n",
       "    var ncells = cells.length;\n",
       "    for (var i=0; i<ncells; i++) {\n",
       "        var cell = cells[i];\n",
       "        if (cell.cell_type === 'code'){\n",
       "            for (var j=0; j<cell.output_area.outputs.length; j++) {\n",
       "                var data = cell.output_area.outputs[j];\n",
       "                if (data.data) {\n",
       "                    // IPython >= 3 moved mimebundle to data attribute of output\n",
       "                    data = data.data;\n",
       "                }\n",
       "                if (data['text/html'] == html_output) {\n",
       "                    return [cell, data, j];\n",
       "                }\n",
       "            }\n",
       "        }\n",
       "    }\n",
       "}\n",
       "\n",
       "// Register the function which deals with the matplotlib target/channel.\n",
       "// The kernel may be null if the page has been refreshed.\n",
       "if (IPython.notebook.kernel != null) {\n",
       "    IPython.notebook.kernel.comm_manager.register_target('matplotlib', mpl.mpl_figure_comm);\n",
       "}\n"
      ],
      "text/plain": [
       "<IPython.core.display.Javascript object>"
      ]
     },
     "metadata": {},
     "output_type": "display_data"
    },
    {
     "data": {
      "text/html": [
       "<img src=\"data:image/png;base64,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\" width=\"640\">"
      ],
      "text/plain": [
       "<IPython.core.display.HTML object>"
      ]
     },
     "metadata": {},
     "output_type": "display_data"
    },
    {
     "data": {
      "text/plain": [
       "[<matplotlib.text.Text at 0x7feac2a9ceb8>,\n",
       " <matplotlib.text.Text at 0x7feac2aa32e8>,\n",
       " <matplotlib.text.Text at 0x7feac2afc5f8>,\n",
       " <matplotlib.text.Text at 0x7feac2a7b160>,\n",
       " <matplotlib.text.Text at 0x7feac2a7bb38>,\n",
       " <matplotlib.text.Text at 0x7feac2a88550>,\n",
       " <matplotlib.text.Text at 0x7feac2a88f28>]"
      ]
     },
     "execution_count": 12,
     "metadata": {},
     "output_type": "execute_result"
    }
   ],
   "source": [
    "fig, ax = plt.subplots()\n",
    "x = np.arange(len(relative_feature_contributions))\n",
    "ax.bar(x, relative_feature_contributions)\n",
    "labels = [r'$A$',r'$\\rho_A$',r'$deg_N$', r'$i_w$', r'$i_w^{no}$', r'$i_u$', r'$i_u^{no}$', r'$L_{top}$',r'$\\sigma$', r'$d$']\n",
    "ax.set_xticks(x)\n",
    "ax.set_xticklabels(labels)"
   ]
  },
  {
   "cell_type": "code",
   "execution_count": null,
   "metadata": {
    "collapsed": false
   },
   "outputs": [],
   "source": [
    "f1,f2,f3,f4,f5,f6,f7,f8,f9,f10 = scaled_principal_components.T  ##Feature individual component contribution \n",
    "print(f10)"
   ]
  },
  {
   "cell_type": "code",
   "execution_count": null,
   "metadata": {
    "collapsed": false
   },
   "outputs": [],
   "source": [
    "fig, ax = plt.subplots()\n",
    "x = np.arange(len(f1))\n",
    "ax.bar(x, abs(f1))\n",
    "ax.bar(x + 1, abs(f2))\n",
    "#ax.bar(x + 9, abs(f9))\n",
    "#labels = [r'$A$',r'$\\rho_A$',r'$deg_N$', r'$i_w$', r'$i_w^{no}$', r'$i_u$', r'$i_u^{no}$', r'$L_{top}$',r'$\\sigma$', r'$d$']\n",
    "#ax.set_xticks(x)\n",
    "#ax.set_xticklabels(labels)"
   ]
  },
  {
   "cell_type": "code",
   "execution_count": null,
   "metadata": {
    "collapsed": true
   },
   "outputs": [],
   "source": []
  }
 ],
 "metadata": {
  "kernelspec": {
   "display_name": "Python 3",
   "language": "python",
   "name": "python3"
  },
  "language_info": {
   "codemirror_mode": {
    "name": "ipython",
    "version": 3
   },
   "file_extension": ".py",
   "mimetype": "text/x-python",
   "name": "python",
   "nbconvert_exporter": "python",
   "pygments_lexer": "ipython3",
   "version": "3.6.0"
  }
 },
 "nbformat": 4,
 "nbformat_minor": 2
}
