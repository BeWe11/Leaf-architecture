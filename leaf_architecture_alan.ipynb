{
 "cells": [
  {
   "cell_type": "code",
   "execution_count": 1,
   "metadata": {
    "collapsed": false
   },
   "outputs": [],
   "source": [
    "import networkx as nx\n",
    "import numpy as np\n",
    "import matplotlib.pyplot as plt\n",
    "%matplotlib notebook\n",
    "import csv\n",
    "import os\n",
    "import itertools\n",
    "from sklearn.decomposition import PCA"
   ]
  },
  {
   "cell_type": "code",
   "execution_count": 2,
   "metadata": {
    "collapsed": false
   },
   "outputs": [],
   "source": [
    "from scripts.utility import *\n",
    "from scripts.features import *\n",
    "from scripts.decomposer import hierarchical_decomposition"
   ]
  },
  {
   "cell_type": "markdown",
   "metadata": {},
   "source": [
    "# Features\n",
    "It is a good idea to save our features in text files, so that we only have to calculate them once. Later on when we employ clustering, we can just read the values off of these files instead of iterating over the graphs again, which is time consuming."
   ]
  },
  {
   "cell_type": "markdown",
   "metadata": {},
   "source": [
    "## 1. Geometrical"
   ]
  },
  {
   "cell_type": "markdown",
   "metadata": {},
   "source": [
    "### 1.1 Number of nodes and edges"
   ]
  },
  {
   "cell_type": "code",
   "execution_count": 17,
   "metadata": {
    "collapsed": false
   },
   "outputs": [
    {
     "name": "stdout",
     "output_type": "stream",
     "text": [
      "Removing disconnected parts\n",
      "Removing disconnected parts\n",
      "Removing disconnected parts\n",
      "Removing disconnected parts\n",
      "Removing disconnected parts\n",
      "Removing disconnected parts\n",
      "Removing disconnected parts\n",
      "Removing disconnected parts\n",
      "Removing disconnected parts\n",
      "Removing disconnected parts\n",
      "Removing disconnected parts\n",
      "Removing disconnected parts\n",
      "Removing disconnected parts\n",
      "Removing disconnected parts\n",
      "Removing disconnected parts\n",
      "Removing disconnected parts\n",
      "Removing disconnected parts\n",
      "Removing disconnected parts\n",
      "Removing disconnected parts\n",
      "Removing disconnected parts\n",
      "Removing disconnected parts\n",
      "Removing disconnected parts\n",
      "Removing disconnected parts\n",
      "Removing disconnected parts\n",
      "Removing disconnected parts\n",
      "Removing disconnected parts\n",
      "Removing disconnected parts\n",
      "Removing disconnected parts\n",
      "Removing disconnected parts\n",
      "Removing disconnected parts\n",
      "Removing disconnected parts\n",
      "Removing disconnected parts\n",
      "Removing disconnected parts\n",
      "Removing disconnected parts\n",
      "Removing disconnected parts\n",
      "Removing disconnected parts\n",
      "Removing disconnected parts\n",
      "Removing disconnected parts\n",
      "Removing disconnected parts\n",
      "Removing disconnected parts\n",
      "Removing disconnected parts\n",
      "Removing disconnected parts\n",
      "Removing disconnected parts\n",
      "Removing disconnected parts\n",
      "Removing disconnected parts\n",
      "Removing disconnected parts\n",
      "Removing disconnected parts\n",
      "Removing disconnected parts\n",
      "Removing disconnected parts\n",
      "Removing disconnected parts\n",
      "Removing disconnected parts\n",
      "Removing disconnected parts\n",
      "Removing disconnected parts\n",
      "Removing disconnected parts\n",
      "Removing disconnected parts\n",
      "Removing disconnected parts\n",
      "Removing disconnected parts\n",
      "Removing disconnected parts\n",
      "Removing disconnected parts\n",
      "Removing disconnected parts\n",
      "Removing disconnected parts\n",
      "Removing disconnected parts\n",
      "Removing disconnected parts\n",
      "Removing disconnected parts\n",
      "Removing disconnected parts\n",
      "Removing disconnected parts\n",
      "Removing disconnected parts\n",
      "Removing disconnected parts\n",
      "Removing disconnected parts\n",
      "Removing disconnected parts\n",
      "Removing disconnected parts\n",
      "Removing disconnected parts\n",
      "Removing disconnected parts\n",
      "Removing disconnected parts\n",
      "Removing disconnected parts\n",
      "Removing disconnected parts\n",
      "Removing disconnected parts\n",
      "Removing disconnected parts\n",
      "Removing disconnected parts\n",
      "Removing disconnected parts\n",
      "Removing disconnected parts\n",
      "Removing disconnected parts\n",
      "Removing disconnected parts\n",
      "Removing disconnected parts\n",
      "Removing disconnected parts\n",
      "Removing disconnected parts\n",
      "Removing disconnected parts\n",
      "Removing disconnected parts\n",
      "Removing disconnected parts\n",
      "Removing disconnected parts\n",
      "Removing disconnected parts\n",
      "Removing disconnected parts\n",
      "Removing disconnected parts\n",
      "Removing disconnected parts\n",
      "Removing disconnected parts\n",
      "Removing disconnected parts\n",
      "Removing disconnected parts\n",
      "Removing disconnected parts\n",
      "Removing disconnected parts\n",
      "Removing disconnected parts\n",
      "Removing disconnected parts\n",
      "Removing disconnected parts\n",
      "Removing disconnected parts\n",
      "Removing disconnected parts\n",
      "Removing disconnected parts\n",
      "Removing disconnected parts\n",
      "Removing disconnected parts\n",
      "Removing disconnected parts\n",
      "Removing disconnected parts\n",
      "Removing disconnected parts\n",
      "Removing disconnected parts\n",
      "Removing disconnected parts\n",
      "Removing disconnected parts\n",
      "Removing disconnected parts\n",
      "Removing disconnected parts\n",
      "Removing disconnected parts\n",
      "Removing disconnected parts\n",
      "Removing disconnected parts\n",
      "Removing disconnected parts\n",
      "Removing disconnected parts\n",
      "Removing disconnected parts\n",
      "Removing disconnected parts\n",
      "Removing disconnected parts\n",
      "Removing disconnected parts\n",
      "Removing disconnected parts\n",
      "Removing disconnected parts\n",
      "Removing disconnected parts\n",
      "Removing disconnected parts\n",
      "Removing disconnected parts\n",
      "Removing disconnected parts\n",
      "Removing disconnected parts\n",
      "Removing disconnected parts\n",
      "Removing disconnected parts\n",
      "Removing disconnected parts\n",
      "Removing disconnected parts\n",
      "Removing disconnected parts\n",
      "Removing disconnected parts\n",
      "Removing disconnected parts\n",
      "Removing disconnected parts\n",
      "Removing disconnected parts\n",
      "Removing disconnected parts\n",
      "Removing disconnected parts\n",
      "Removing disconnected parts\n",
      "Removing disconnected parts\n",
      "Removing disconnected parts\n",
      "Removing disconnected parts\n",
      "Removing disconnected parts\n",
      "Removing disconnected parts\n",
      "Removing disconnected parts\n",
      "Removing disconnected parts\n",
      "Removing disconnected parts\n",
      "Removing disconnected parts\n",
      "Removing disconnected parts\n",
      "Removing disconnected parts\n",
      "Removing disconnected parts\n",
      "Removing disconnected parts\n",
      "Removing disconnected parts\n",
      "Removing disconnected parts\n",
      "Removing disconnected parts\n",
      "Removing disconnected parts\n",
      "Removing disconnected parts\n",
      "Removing disconnected parts\n",
      "Removing disconnected parts\n",
      "Removing disconnected parts\n",
      "Removing disconnected parts\n",
      "Removing disconnected parts\n",
      "Removing disconnected parts\n",
      "Removing disconnected parts\n",
      "Removing disconnected parts\n",
      "Removing disconnected parts\n",
      "Removing disconnected parts\n",
      "Removing disconnected parts\n",
      "Removing disconnected parts\n",
      "Removing disconnected parts\n",
      "Removing disconnected parts\n",
      "Removing disconnected parts\n",
      "Removing disconnected parts\n",
      "Removing disconnected parts\n",
      "Removing disconnected parts\n",
      "Removing disconnected parts\n",
      "Removing disconnected parts\n",
      "Removing disconnected parts\n",
      "Removing disconnected parts\n",
      "Removing disconnected parts\n",
      "Removing disconnected parts\n",
      "Removing disconnected parts\n",
      "Removing disconnected parts\n",
      "Removing disconnected parts\n",
      "Removing disconnected parts\n",
      "Removing disconnected parts\n",
      "Removing disconnected parts\n",
      "Removing disconnected parts\n",
      "Removing disconnected parts\n",
      "Removing disconnected parts\n",
      "Removing disconnected parts\n",
      "Removing disconnected parts\n",
      "Removing disconnected parts\n",
      "Removing disconnected parts\n",
      "Removing disconnected parts\n",
      "Removing disconnected parts\n",
      "Removing disconnected parts\n",
      "Removing disconnected parts\n",
      "Removing disconnected parts\n",
      "Removing disconnected parts\n",
      "Removing disconnected parts\n",
      "Removing disconnected parts\n",
      "Removing disconnected parts\n",
      "Removing disconnected parts\n",
      "Removing disconnected parts\n",
      "Removing disconnected parts\n"
     ]
    }
   ],
   "source": [
    "# Calculate the number of nodes and edges for each network and save them to files\n",
    "with open('features/n_nodes.txt', 'w') as node_file, open('features/n_edges.txt', 'w') as edge_file:\n",
    "    for network_id, G in graph_generator():\n",
    "        node_file.write(network_id + '\\t' + str(nx.number_of_nodes(G)) + '\\n') # nx.number_of_nodes() function\n",
    "        edge_file.write(network_id + '\\t' + str(nx.number_of_edges(G)) + '\\n') # use tab character \\t, not two spaces\n",
    "        \n",
    "###NOTE: Have to pull features from github before running script\n",
    "##IDEA: Can calculate every feature on the same loop"
   ]
  },
  {
   "cell_type": "markdown",
   "metadata": {},
   "source": [
    "### 1.2 Average node degree"
   ]
  },
  {
   "cell_type": "code",
   "execution_count": 12,
   "metadata": {
    "collapsed": false
   },
   "outputs": [
    {
     "name": "stdout",
     "output_type": "stream",
     "text": [
      "Removing disconnected parts\n",
      "Removing disconnected parts\n",
      "Removing disconnected parts\n",
      "Removing disconnected parts\n",
      "Removing disconnected parts\n",
      "Removing disconnected parts\n",
      "Removing disconnected parts\n",
      "Removing disconnected parts\n",
      "Removing disconnected parts\n",
      "Removing disconnected parts\n",
      "Removing disconnected parts\n",
      "Removing disconnected parts\n",
      "Removing disconnected parts\n",
      "Removing disconnected parts\n",
      "Removing disconnected parts\n",
      "Removing disconnected parts\n",
      "Removing disconnected parts\n",
      "Removing disconnected parts\n",
      "Removing disconnected parts\n",
      "Removing disconnected parts\n",
      "Removing disconnected parts\n",
      "Removing disconnected parts\n",
      "Removing disconnected parts\n",
      "Removing disconnected parts\n",
      "Removing disconnected parts\n",
      "Removing disconnected parts\n",
      "Removing disconnected parts\n",
      "Removing disconnected parts\n",
      "Removing disconnected parts\n",
      "Removing disconnected parts\n",
      "Removing disconnected parts\n",
      "Removing disconnected parts\n",
      "Removing disconnected parts\n",
      "Removing disconnected parts\n",
      "Removing disconnected parts\n",
      "Removing disconnected parts\n",
      "Removing disconnected parts\n",
      "Removing disconnected parts\n",
      "Removing disconnected parts\n",
      "Removing disconnected parts\n",
      "Removing disconnected parts\n",
      "Removing disconnected parts\n",
      "Removing disconnected parts\n",
      "Removing disconnected parts\n",
      "Removing disconnected parts\n",
      "Removing disconnected parts\n",
      "Removing disconnected parts\n",
      "Removing disconnected parts\n",
      "Removing disconnected parts\n",
      "Removing disconnected parts\n",
      "Removing disconnected parts\n",
      "Removing disconnected parts\n",
      "Removing disconnected parts\n",
      "Removing disconnected parts\n",
      "Removing disconnected parts\n",
      "Removing disconnected parts\n",
      "Removing disconnected parts\n",
      "Removing disconnected parts\n",
      "Removing disconnected parts\n",
      "Removing disconnected parts\n",
      "Removing disconnected parts\n",
      "Removing disconnected parts\n",
      "Removing disconnected parts\n",
      "Removing disconnected parts\n",
      "Removing disconnected parts\n",
      "Removing disconnected parts\n",
      "Removing disconnected parts\n",
      "Removing disconnected parts\n",
      "Removing disconnected parts\n",
      "Removing disconnected parts\n",
      "Removing disconnected parts\n",
      "Removing disconnected parts\n",
      "Removing disconnected parts\n",
      "Removing disconnected parts\n",
      "Removing disconnected parts\n",
      "Removing disconnected parts\n",
      "Removing disconnected parts\n",
      "Removing disconnected parts\n",
      "Removing disconnected parts\n",
      "Removing disconnected parts\n",
      "Removing disconnected parts\n",
      "Removing disconnected parts\n",
      "Removing disconnected parts\n",
      "Removing disconnected parts\n",
      "Removing disconnected parts\n",
      "Removing disconnected parts\n",
      "Removing disconnected parts\n",
      "Removing disconnected parts\n",
      "Removing disconnected parts\n",
      "Removing disconnected parts\n",
      "Removing disconnected parts\n",
      "Removing disconnected parts\n",
      "Removing disconnected parts\n",
      "Removing disconnected parts\n",
      "Removing disconnected parts\n",
      "Removing disconnected parts\n",
      "Removing disconnected parts\n",
      "Removing disconnected parts\n",
      "Removing disconnected parts\n",
      "Removing disconnected parts\n",
      "Removing disconnected parts\n",
      "Removing disconnected parts\n",
      "Removing disconnected parts\n",
      "Removing disconnected parts\n",
      "Removing disconnected parts\n",
      "Removing disconnected parts\n",
      "Removing disconnected parts\n",
      "Removing disconnected parts\n",
      "Removing disconnected parts\n",
      "Removing disconnected parts\n",
      "Removing disconnected parts\n",
      "Removing disconnected parts\n",
      "Removing disconnected parts\n",
      "Removing disconnected parts\n",
      "Removing disconnected parts\n",
      "Removing disconnected parts\n",
      "Removing disconnected parts\n",
      "Removing disconnected parts\n",
      "Removing disconnected parts\n",
      "Removing disconnected parts\n",
      "Removing disconnected parts\n",
      "Removing disconnected parts\n",
      "Removing disconnected parts\n",
      "Removing disconnected parts\n",
      "Removing disconnected parts\n",
      "Removing disconnected parts\n",
      "Removing disconnected parts\n",
      "Removing disconnected parts\n",
      "Removing disconnected parts\n",
      "Removing disconnected parts\n",
      "Removing disconnected parts\n",
      "Removing disconnected parts\n",
      "Removing disconnected parts\n",
      "Removing disconnected parts\n",
      "Removing disconnected parts\n",
      "Removing disconnected parts\n",
      "Removing disconnected parts\n",
      "Removing disconnected parts\n",
      "Removing disconnected parts\n",
      "Removing disconnected parts\n",
      "Removing disconnected parts\n",
      "Removing disconnected parts\n",
      "Removing disconnected parts\n",
      "Removing disconnected parts\n",
      "Removing disconnected parts\n",
      "Removing disconnected parts\n",
      "Removing disconnected parts\n",
      "Removing disconnected parts\n",
      "Removing disconnected parts\n",
      "Removing disconnected parts\n",
      "Removing disconnected parts\n",
      "Removing disconnected parts\n",
      "Removing disconnected parts\n",
      "Removing disconnected parts\n",
      "Removing disconnected parts\n",
      "Removing disconnected parts\n",
      "Removing disconnected parts\n",
      "Removing disconnected parts\n",
      "Removing disconnected parts\n",
      "Removing disconnected parts\n",
      "Removing disconnected parts\n",
      "Removing disconnected parts\n",
      "Removing disconnected parts\n",
      "Removing disconnected parts\n",
      "Removing disconnected parts\n",
      "Removing disconnected parts\n",
      "Removing disconnected parts\n",
      "Removing disconnected parts\n",
      "Removing disconnected parts\n",
      "Removing disconnected parts\n",
      "Removing disconnected parts\n",
      "Removing disconnected parts\n",
      "Removing disconnected parts\n",
      "Removing disconnected parts\n",
      "Removing disconnected parts\n",
      "Removing disconnected parts\n",
      "Removing disconnected parts\n",
      "Removing disconnected parts\n",
      "Removing disconnected parts\n",
      "Removing disconnected parts\n",
      "Removing disconnected parts\n",
      "Removing disconnected parts\n",
      "Removing disconnected parts\n",
      "Removing disconnected parts\n",
      "Removing disconnected parts\n",
      "Removing disconnected parts\n",
      "Removing disconnected parts\n",
      "Removing disconnected parts\n",
      "Removing disconnected parts\n",
      "Removing disconnected parts\n",
      "Removing disconnected parts\n",
      "Removing disconnected parts\n",
      "Removing disconnected parts\n",
      "Removing disconnected parts\n",
      "Removing disconnected parts\n",
      "Removing disconnected parts\n",
      "Removing disconnected parts\n",
      "Removing disconnected parts\n",
      "Removing disconnected parts\n",
      "Removing disconnected parts\n",
      "Removing disconnected parts\n",
      "Removing disconnected parts\n",
      "Removing disconnected parts\n",
      "Removing disconnected parts\n",
      "Removing disconnected parts\n",
      "Removing disconnected parts\n",
      "Removing disconnected parts\n",
      "Removing disconnected parts\n",
      "Removing disconnected parts\n",
      "Removing disconnected parts\n"
     ]
    }
   ],
   "source": [
    "# Calculate the average node degree, i.e. the average number of edges that are connected to a node,\n",
    "# for each network and write them to a file\n",
    "with open('features/average_node_degree.txt', 'w') as file:\n",
    "    for network_id, G in graph_generator(): # check this access to graph_generator\n",
    "        average_node_degree = np.mean(list(G.degree().values()))\n",
    "        file.write(network_id + '\\t' + str(average_node_degree) + '\\n')"
   ]
  },
  {
   "cell_type": "markdown",
   "metadata": {},
   "source": [
    "### 1.3 Vein density"
   ]
  },
  {
   "cell_type": "markdown",
   "metadata": {},
   "source": [
    "Vein density **$\\sigma$** is calculated by summing the total length of all veins and dividing by total leaf area.\n"
   ]
  },
  {
   "cell_type": "code",
   "execution_count": null,
   "metadata": {
    "collapsed": false
   },
   "outputs": [],
   "source": [
    "save_feature(vein_density, skip_existing=True, clean=False)"
   ]
  },
  {
   "cell_type": "markdown",
   "metadata": {},
   "source": [
    "### 1.4 Areole area"
   ]
  },
  {
   "cell_type": "markdown",
   "metadata": {},
   "source": [
    "Areole area **$A$** is obtained calculating basic cycle areas using the standard formula for the area of a general polygon."
   ]
  },
  {
   "cell_type": "code",
   "execution_count": null,
   "metadata": {
    "collapsed": false
   },
   "outputs": [],
   "source": [
    "save_feature(areole_area, skip_existing=True, clean=False)"
   ]
  },
  {
   "cell_type": "markdown",
   "metadata": {},
   "source": [
    "### 1.5 Areole density "
   ]
  },
  {
   "cell_type": "markdown",
   "metadata": {},
   "source": [
    "Areole density **$\\rho_A$** is the total number of areoles divided by leaf area."
   ]
  },
  {
   "cell_type": "code",
   "execution_count": null,
   "metadata": {
    "collapsed": false
   },
   "outputs": [],
   "source": [
    "save_feature(areole_density, skip_existing=True, clean=False)"
   ]
  },
  {
   "cell_type": "markdown",
   "metadata": {},
   "source": [
    "### 1.6 Weighted vein thickness"
   ]
  },
  {
   "cell_type": "markdown",
   "metadata": {},
   "source": [
    "Weighted vein thickness **$d$** is calculated as the total sum of the product radius*length of each\n",
    "    individual vein segment divided by total vein length"
   ]
  },
  {
   "cell_type": "code",
   "execution_count": null,
   "metadata": {
    "collapsed": false
   },
   "outputs": [],
   "source": [
    "save_feature(weighted_vein_thickness, skip_existing=True, clean=False)"
   ]
  },
  {
   "cell_type": "markdown",
   "metadata": {},
   "source": [
    "## 2. Topological"
   ]
  },
  {
   "cell_type": "markdown",
   "metadata": {
    "collapsed": false
   },
   "source": [
    "### 2.1 Nesting number"
   ]
  },
  {
   "cell_type": "code",
   "execution_count": null,
   "metadata": {
    "collapsed": false
   },
   "outputs": [],
   "source": [
    "save_feature(nesting_numbers, skip_existing=True, clean=True)"
   ]
  },
  {
   "cell_type": "code",
   "execution_count": 18,
   "metadata": {
    "collapsed": false
   },
   "outputs": [
    {
     "name": "stdout",
     "output_type": "stream",
     "text": [
      "alan\n"
     ]
    }
   ],
   "source": [
    "#%%capture \n",
    "print('alan')"
   ]
  },
  {
   "cell_type": "markdown",
   "metadata": {},
   "source": [
    "# Data Analysis"
   ]
  },
  {
   "cell_type": "code",
   "execution_count": 15,
   "metadata": {
    "collapsed": false
   },
   "outputs": [],
   "source": [
    "generator = graph_generator()"
   ]
  },
  {
   "cell_type": "code",
   "execution_count": 16,
   "metadata": {
    "collapsed": false
   },
   "outputs": [
    {
     "name": "stdout",
     "output_type": "stream",
     "text": [
      "Removing disconnected parts\n"
     ]
    }
   ],
   "source": [
    "_, G = next(generator)"
   ]
  },
  {
   "cell_type": "code",
   "execution_count": null,
   "metadata": {
    "collapsed": false
   },
   "outputs": [],
   "source": [
    "H = clean_graph(G)"
   ]
  },
  {
   "cell_type": "code",
   "execution_count": null,
   "metadata": {
    "collapsed": false
   },
   "outputs": [],
   "source": [
    "pos = nx.get_node_attributes(G, 'pos')\n",
    "nx.draw(G, pos=pos, node_size=0.01)\n",
    "\n",
    "#basis = nx.cycle_basis(G)\n",
    "#subgraph_nodes = list(itertools.chain(*basis[:700])) # TODO: how to generate connected subgraphs?\n",
    "#H = clean_graph(G.subgraph(subgraph_nodes))\n",
    "#pos = nx.get_node_attributes(H,'pos')\n",
    "#nx.draw(H, pos=pos, node_size=0.0001)"
   ]
  },
  {
   "cell_type": "code",
   "execution_count": null,
   "metadata": {
    "collapsed": false
   },
   "outputs": [],
   "source": [
    "nesting_number, nesting_number_no_ext = nesting_numbers(H)\n",
    "print(nesting_number)\n",
    "print(nesting_number_no_ext)"
   ]
  },
  {
   "cell_type": "code",
   "execution_count": null,
   "metadata": {
    "collapsed": true
   },
   "outputs": [],
   "source": [
    "_, G = get_graph_from_data()"
   ]
  },
  {
   "cell_type": "markdown",
   "metadata": {},
   "source": [
    "### Principal Component Analysis"
   ]
  },
  {
   "cell_type": "code",
   "execution_count": 3,
   "metadata": {
    "collapsed": false
   },
   "outputs": [
    {
     "data": {
      "text/plain": [
       "PCA(copy=True, iterated_power='auto', n_components=4, random_state=None,\n",
       "  svd_solver='auto', tol=0.0, whiten=False)"
      ]
     },
     "execution_count": 3,
     "metadata": {},
     "output_type": "execute_result"
    }
   ],
   "source": [
    "X = np.array([[-1, -1, 2, 2,], [-2, -1, -2, -1], [-3, -2, 3, 3], [1, 1, 2, 2], [2, 1, 4, 4], [3, 2, -1, -1]])\n",
    "pca = PCA(n_components=4)\n",
    "pca.fit(X)"
   ]
  },
  {
   "cell_type": "code",
   "execution_count": 4,
   "metadata": {
    "collapsed": false
   },
   "outputs": [
    {
     "name": "stdout",
     "output_type": "stream",
     "text": [
      "Input Vector\n",
      " [[-1 -1  2  2]\n",
      " [-2 -1 -2 -1]\n",
      " [-3 -2  3  3]\n",
      " [ 1  1  2  2]\n",
      " [ 2  1  4  4]\n",
      " [ 3  2 -1 -1]]\n"
     ]
    }
   ],
   "source": [
    "print('Input Vector\\n',X)"
   ]
  },
  {
   "cell_type": "code",
   "execution_count": 12,
   "metadata": {
    "collapsed": false
   },
   "outputs": [
    {
     "name": "stdout",
     "output_type": "stream",
     "text": [
      "Fit\n",
      " PCA(copy=True, iterated_power='auto', n_components=4, random_state=None,\n",
      "  svd_solver='auto', tol=0.0, whiten=False)\n"
     ]
    }
   ],
   "source": [
    "print('Fit\\n',pca.fit(X)) "
   ]
  },
  {
   "cell_type": "code",
   "execution_count": 14,
   "metadata": {
    "collapsed": false
   },
   "outputs": [
    {
     "name": "stdout",
     "output_type": "stream",
     "text": [
      "Orthogonal Eigenvectors: Principal components \n",
      " [[ 0.2216594   0.19488984 -0.70829235 -0.64125424]\n",
      " [-0.81015898 -0.5065792  -0.24722735 -0.16093034]\n",
      " [ 0.44312427 -0.72989863  0.31378374 -0.41524527]\n",
      " [ 0.31328966 -0.41550385 -0.58201405  0.62487262]]\n"
     ]
    }
   ],
   "source": [
    "print('Orthogonal Eigenvectors: Principal components \\n',pca.components_)  #Eigenvectors on the Feature space:  PC1\n",
    "                                                                                      #PC2\n",
    "                                                                                      #PC3"
   ]
  },
  {
   "cell_type": "code",
   "execution_count": 7,
   "metadata": {
    "collapsed": false
   },
   "outputs": [
    {
     "name": "stdout",
     "output_type": "stream",
     "text": [
      "Eigenvalues: Explained variance\n",
      " [ 8.26868369  6.47630428  0.03753452  0.02303306]\n"
     ]
    }
   ],
   "source": [
    "print('Eigenvalues: Explained variance\\n', pca.explained_variance_) #Amount of variance explained by each of the selected components."
   ]
  },
  {
   "cell_type": "code",
   "execution_count": 11,
   "metadata": {
    "collapsed": false
   },
   "outputs": [
    {
     "name": "stdout",
     "output_type": "stream",
     "text": [
      "Normalized eigenvalues: Variance ratio\n",
      " [ 0.5584852   0.43742393  0.00253516  0.0015557 ]\n"
     ]
    }
   ],
   "source": [
    "print('Normalized eigenvalues: Variance ratio\\n', pca.explained_variance_ratio_) #Percentage of variance explained by each of the selected components."
   ]
  },
  {
   "cell_type": "code",
   "execution_count": 10,
   "metadata": {
    "collapsed": false
   },
   "outputs": [
    {
     "name": "stdout",
     "output_type": "stream",
     "text": [
      "PCA transform: Projected data into PCA subspace\n",
      " [[-1.20937127  1.07145479  0.28834089  0.02664113]\n",
      " [ 3.32590146  3.35331416 -0.16418253  0.16678979]\n",
      " [-3.19712651  2.79019427  0.03052945 -0.14157578]\n",
      " [-0.37627277 -1.56202159 -0.28520784 -0.17778724]\n",
      " [-2.85370656 -3.18849593 -0.04500663  0.22121957]\n",
      " [ 4.31057566 -2.46444571  0.17552666 -0.09528747]]\n"
     ]
    }
   ],
   "source": [
    "print('PCA transform: Projected data into PCA subspace\\n',pca.transform(X))   #X is projected on the first principal components previously extracted from a training set."
   ]
  },
  {
   "cell_type": "code",
   "execution_count": null,
   "metadata": {
    "collapsed": true
   },
   "outputs": [],
   "source": []
  }
 ],
 "metadata": {
  "kernelspec": {
   "display_name": "Python 3",
   "language": "python",
   "name": "python3"
  },
  "language_info": {
   "codemirror_mode": {
    "name": "ipython",
    "version": 3
   },
   "file_extension": ".py",
   "mimetype": "text/x-python",
   "name": "python",
   "nbconvert_exporter": "python",
   "pygments_lexer": "ipython3",
   "version": "3.6.0"
  }
 },
 "nbformat": 4,
 "nbformat_minor": 2
}
