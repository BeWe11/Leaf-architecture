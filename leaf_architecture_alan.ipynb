{
 "cells": [
  {
   "cell_type": "code",
   "execution_count": 1,
   "metadata": {
    "collapsed": false
   },
   "outputs": [],
   "source": [
    "import networkx as nx\n",
    "import numpy as np\n",
    "import matplotlib.pyplot as plt\n",
    "%matplotlib notebook\n",
    "import csv\n",
    "import os\n",
    "from leaf_area_basic_cycles import get_total_leaf_area\n",
    "from sum_individual_vein_lengths import get_total_vein_length"
   ]
  },
  {
   "cell_type": "markdown",
   "metadata": {},
   "source": [
    "## Utility Functions \n",
    "\n",
    "##### graph_from_data \n",
    "allows quickgraph generation if the paths to the node list and edge list are given"
   ]
  },
  {
   "cell_type": "code",
   "execution_count": 5,
   "metadata": {
    "collapsed": true
   },
   "outputs": [],
   "source": [
    "def graph_from_data(node_path, edge_path):\n",
    "    # Extract network id from path\n",
    "    network_id = os.path.basename(node_path)\n",
    "    network_id = network_id.split('binary', 1)[0]\n",
    "    network_id = network_id.split('graph', 1)[0]\n",
    "    network_id = network_id[:-1]\n",
    "\n",
    "    # Read node positions from the node file\n",
    "    nodes = []\n",
    "    with open(node_path) as csvfile:\n",
    "        reader = csv.reader(csvfile, delimiter=' ', quoting=csv.QUOTE_NONNUMERIC)\n",
    "        for row in reader:\n",
    "            nodes.append({'node_id': int(row[0]), 'x': row[1], 'y': row[2]})\n",
    "\n",
    "    # Read edge positions from the edge file\n",
    "    edges = []\n",
    "    with open(edge_path) as csvfile:\n",
    "        reader = csv.reader(csvfile, delimiter=' ', quoting=csv.QUOTE_NONNUMERIC)\n",
    "        for row in reader:\n",
    "            edges.append({'node_id1': int(row[0]), 'node_id2': int(row[1]), 'radius': row[2], 'length': row[3]})\n",
    "\n",
    "    # Create the graph with the networkx library\n",
    "    G = nx.Graph()\n",
    "    for node in nodes:\n",
    "        G.add_node(node['node_id'], pos=(node['x'], node['y']))\n",
    "    for edge in edges:\n",
    "        G.add_edge(edge['node_id1'], edge['node_id2'], weight=edge['radius'], length=edge['length'])\n",
    "        \n",
    "    return network_id, G"
   ]
  },
  {
   "cell_type": "markdown",
   "metadata": {},
   "source": [
    "##### graph_generator\n",
    "basically just applies graph_from_data to all file paths and returns the graphs one by one. Notice the word yield at the end instead of the usual return of python functions. This tells python that this function is a generator. We can iterate over this generator as if it were a list. Everytime we normally were to access the next list element, the generator yields the next result. This way, there is never more than one graph in the memory. If we created a list of all graphs, this list would probably be several GB in size.\n",
    " \n"
   ]
  },
  {
   "cell_type": "code",
   "execution_count": 6,
   "metadata": {
    "collapsed": false
   },
   "outputs": [],
   "source": [
    "def graph_generator():\n",
    "    data_list = []\n",
    "    for subset in ['BronxA', 'BronxB']:\n",
    "        # Get a list of all files in the BronxA or BronxB directory\n",
    "        file_list = os.listdir('data/networks-{}'.format(subset))\n",
    "        file_list.sort()  #file_list comes with unsorted files \n",
    "        \n",
    "        # The file names result in the node list always following the edge list,\n",
    "        # which means that all even numbers correspond to edge lists and all odd\n",
    "        # numbers to node lists.\n",
    "        for i in range(len(file_list)//2):\n",
    "            edge_path = os.path.join('data/networks-{}'.format(subset), file_list[2*i])\n",
    "            node_path = os.path.join('data/networks-{}'.format(subset), file_list[2*i + 1])\n",
    "            # Everytime the next element of the generator is accessed, the current step in\n",
    "            # the loop is executed. After the 'yield' line is finished, the generator will pause\n",
    "            # until the next element is accessed again. So everytime we access the next element,\n",
    "            # we raise i to i+1, get the paths for the corresponding files and generate the graph\n",
    "            # for these files.\n",
    "              \n",
    "            yield graph_from_data(node_path, edge_path)   ##Ignores everything after first yield\n",
    "            print ('first yield')     \n",
    "            #print (edge_path)\n",
    "            #yield total_vein_length(edge_path)\n",
    "            #print ('second yield')\n",
    "            ###NOTE: Have to restart kernel if any change in generator is done"
   ]
  },
  {
   "cell_type": "markdown",
   "metadata": {},
   "source": [
    "## Data Analysis\n"
   ]
  },
  {
   "cell_type": "markdown",
   "metadata": {},
   "source": [
    "#### Get species name"
   ]
  },
  {
   "cell_type": "code",
   "execution_count": null,
   "metadata": {
    "collapsed": false
   },
   "outputs": [],
   "source": [
    "species = []    ##CHECK: Make it a function\n",
    "index = \"066\" \n",
    "with open('data/LABELS_1.txt') as csvfile:   #BronxB LABEL1, BronxA LABEL2\n",
    "    reader = csv.reader(csvfile, delimiter=' ')  #Works with elements as strings \n",
    "    for row in reader:\n",
    "        if row[1] == index: \n",
    "            species.append(' '.join(row))"
   ]
  },
  {
   "cell_type": "markdown",
   "metadata": {},
   "source": [
    "#### Leaf Graph"
   ]
  },
  {
   "cell_type": "code",
   "execution_count": 7,
   "metadata": {
    "collapsed": false
   },
   "outputs": [],
   "source": [
    "generator = graph_generator()"
   ]
  },
  {
   "cell_type": "code",
   "execution_count": 8,
   "metadata": {
    "collapsed": false,
    "scrolled": true
   },
   "outputs": [],
   "source": [
    "_, G = next(generator)\n",
    "pos = nx.get_node_attributes(G,'pos')  ##NOTE: Check nx.get_ (attributes)\n",
    "#nx.draw(G, pos=pos, node_size=0.1)"
   ]
  },
  {
   "cell_type": "markdown",
   "metadata": {
    "collapsed": false
   },
   "source": [
    "## Features"
   ]
  },
  {
   "cell_type": "markdown",
   "metadata": {
    "collapsed": false
   },
   "source": [
    "### 1 Geometrical"
   ]
  },
  {
   "cell_type": "markdown",
   "metadata": {},
   "source": [
    "### 1.1 Number of nodes and edges\n"
   ]
  },
  {
   "cell_type": "code",
   "execution_count": null,
   "metadata": {
    "collapsed": false
   },
   "outputs": [],
   "source": [
    "#Calculate the number of nodes and edges for each network and save them to files\n",
    "with open('features/n_nodes.txt', 'w') as node_file, open('features/n_edges.txt', 'w') as edge_file:\n",
    "    for network_id, graph in graph_generator():     #Check this access to graph_generator\n",
    "        node_file.write(network_id + '  ' + str(nx.number_of_nodes(graph)) + '\\n')  #nx.number_of_nodes() function\n",
    "        edge_file.write(network_id + '  ' + str(nx.number_of_edges(graph)) + '\\n')  #Two spaces \n",
    "        \n",
    "###NOTE: Have to pull features from github before running script\n",
    "##IDEA: Can calculate every feature on the same loop "
   ]
  },
  {
   "cell_type": "markdown",
   "metadata": {},
   "source": [
    "### 1.2 Average Node Degree"
   ]
  },
  {
   "cell_type": "code",
   "execution_count": null,
   "metadata": {
    "collapsed": false
   },
   "outputs": [],
   "source": [
    "# Calculate the average node degree, i.e. the average number of edges that are connected to a node,\n",
    "# for each network and write them to a file\n",
    "with open('features/average_node_degree.txt', 'w') as node_file:  \n",
    "    for network_id, graph in graph_generator():     #Check this access to graph_generator\n",
    "        average_node_degree = np.mean(list(graph.degree().values()))\n",
    "        node_file.write(network_id + '  ' + str(average_node_degree) + '\\n')"
   ]
  },
  {
   "cell_type": "markdown",
   "metadata": {},
   "source": [
    "###  1.3 Vein density\n"
   ]
  },
  {
   "cell_type": "markdown",
   "metadata": {},
   "source": [
    "Vein density **σ** is calculated by summing the total length of all veins and dividing by total leaf area."
   ]
  },
  {
   "cell_type": "code",
   "execution_count": 10,
   "metadata": {
    "collapsed": false
   },
   "outputs": [
    {
     "name": "stdout",
     "output_type": "stream",
     "text": [
      "vein density 0.00025849100767\n",
      "total vein length 2328902.8143422347\n",
      "leaf area 9009608633.33\n"
     ]
    }
   ],
   "source": [
    "total_vein_length = get_total_vein_length(G)\n",
    "total_leaf_area = get_total_leaf_area(G)\n",
    "\n",
    "vein_density = total_vein_length/total_leaf_area\n",
    "\n",
    "#print('vein density',vein_density)\n",
    "#print('total vein length',total_vein_length)\n",
    "#print('leaf area',total_leaf_area)"
   ]
  },
  {
   "cell_type": "markdown",
   "metadata": {},
   "source": [
    "### Topological"
   ]
  }
 ],
 "metadata": {
  "anaconda-cloud": {},
  "kernelspec": {
   "display_name": "Python 3",
   "language": "python",
   "name": "python3"
  },
  "language_info": {
   "codemirror_mode": {
    "name": "ipython",
    "version": 3
   },
   "file_extension": ".py",
   "mimetype": "text/x-python",
   "name": "python",
   "nbconvert_exporter": "python",
   "pygments_lexer": "ipython3",
   "version": "3.6.0"
  }
 },
 "nbformat": 4,
 "nbformat_minor": 2
}
