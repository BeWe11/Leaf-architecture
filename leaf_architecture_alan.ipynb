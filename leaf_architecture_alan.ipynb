{
 "cells": [
  {
   "cell_type": "code",
   "execution_count": 1,
   "metadata": {
    "collapsed": false
   },
   "outputs": [],
   "source": [
    "import networkx as nx\n",
    "import numpy as np\n",
    "from sklearn.decomposition import PCA\n",
    "from sklearn.preprocessing import normalize\n",
    "import matplotlib.pyplot as plt\n",
    "%matplotlib notebook\n",
    "import csv\n",
    "import os\n",
    "import itertools"
   ]
  },
  {
   "cell_type": "code",
   "execution_count": 2,
   "metadata": {
    "collapsed": false
   },
   "outputs": [],
   "source": [
    "from scripts.utility import *\n",
    "from scripts.features import *"
   ]
  },
  {
   "cell_type": "markdown",
   "metadata": {},
   "source": [
    "# Features\n",
    "It is a good idea to save our features in text files, so that we only have to calculate them once. Later on when we employ clustering, we can just read the values off of these files instead of iterating over the graphs again, which is time consuming."
   ]
  },
  {
   "cell_type": "markdown",
   "metadata": {},
   "source": [
    "## 1. Geometrical"
   ]
  },
  {
   "cell_type": "markdown",
   "metadata": {},
   "source": [
    "### 1.1 Number of nodes and edges"
   ]
  },
  {
   "cell_type": "code",
   "execution_count": null,
   "metadata": {
    "collapsed": false
   },
   "outputs": [],
   "source": [
    "# Calculate the number of nodes and edges for each network and save them to files\n",
    "with open('features/n_nodes.txt', 'w') as node_file, open('features/n_edges.txt', 'w') as edge_file:\n",
    "    for network_id, G in graph_generator():\n",
    "        node_file.write(network_id + '\\t' + str(nx.number_of_nodes(G)) + '\\n') # nx.number_of_nodes() function\n",
    "        edge_file.write(network_id + '\\t' + str(nx.number_of_edges(G)) + '\\n') # use tab character \\t, not two spaces\n",
    "        \n",
    "###NOTE: Have to pull features from github before running script\n",
    "##IDEA: Can calculate every feature on the same loop"
   ]
  },
  {
   "cell_type": "markdown",
   "metadata": {},
   "source": [
    "### 1.2 Average node degree"
   ]
  },
  {
   "cell_type": "code",
   "execution_count": null,
   "metadata": {
    "collapsed": true
   },
   "outputs": [],
   "source": [
    "# Calculate the average node degree, i.e. the average number of edges that are connected to a node,\n",
    "# for each network and write them to a file\n",
    "with open('features/average_node_degree.txt', 'w') as file:\n",
    "    for network_id, G in graph_generator(): # check this access to graph_generator\n",
    "        average_node_degree = np.mean(list(G.degree().values()))\n",
    "        file.write(network_id + '\\t' + str(average_node_degree) + '\\n')"
   ]
  },
  {
   "cell_type": "markdown",
   "metadata": {},
   "source": [
    "### 1.3 Vein density"
   ]
  },
  {
   "cell_type": "markdown",
   "metadata": {},
   "source": [
    "Vein density **$\\sigma$** is calculated by summing the total length of all veins and dividing by total leaf area.\n"
   ]
  },
  {
   "cell_type": "code",
   "execution_count": null,
   "metadata": {
    "collapsed": false
   },
   "outputs": [],
   "source": [
    "save_feature(vein_density, skip_existing=True, clean=False)"
   ]
  },
  {
   "cell_type": "markdown",
   "metadata": {},
   "source": [
    "### 1.4 Areole area"
   ]
  },
  {
   "cell_type": "markdown",
   "metadata": {},
   "source": [
    "Areole area **$A$** is obtained calculating basic cycle areas using the standard formula for the area of a general polygon."
   ]
  },
  {
   "cell_type": "code",
   "execution_count": null,
   "metadata": {
    "collapsed": false
   },
   "outputs": [],
   "source": [
    "save_feature(areole_area, skip_existing=True, clean=False)"
   ]
  },
  {
   "cell_type": "markdown",
   "metadata": {},
   "source": [
    "### 1.5 Areole density "
   ]
  },
  {
   "cell_type": "markdown",
   "metadata": {},
   "source": [
    "Areole density **$\\rho_A$** is the total number of areoles divided by leaf area."
   ]
  },
  {
   "cell_type": "code",
   "execution_count": null,
   "metadata": {
    "collapsed": false
   },
   "outputs": [],
   "source": [
    "save_feature(areole_density, skip_existing=True, clean=False)"
   ]
  },
  {
   "cell_type": "markdown",
   "metadata": {},
   "source": [
    "### 1.6 Weighted vein thickness"
   ]
  },
  {
   "cell_type": "markdown",
   "metadata": {},
   "source": [
    "Weighted vein thickness **$d$** is calculated as the total sum of the product radius*length of each\n",
    "    individual vein segment divided by total vein length"
   ]
  },
  {
   "cell_type": "code",
   "execution_count": null,
   "metadata": {
    "collapsed": false
   },
   "outputs": [],
   "source": [
    "save_feature(weighted_vein_thickness, skip_existing=True, clean=False)"
   ]
  },
  {
   "cell_type": "markdown",
   "metadata": {},
   "source": [
    "## 2. Topological"
   ]
  },
  {
   "cell_type": "markdown",
   "metadata": {
    "collapsed": false
   },
   "source": [
    "### 2.1 Nesting number"
   ]
  },
  {
   "cell_type": "code",
   "execution_count": null,
   "metadata": {
    "collapsed": false
   },
   "outputs": [],
   "source": [
    "save_feature(nesting_numbers, skip_existing=True, clean=True)"
   ]
  },
  {
   "cell_type": "markdown",
   "metadata": {},
   "source": [
    "# Data Analysis"
   ]
  },
  {
   "cell_type": "code",
   "execution_count": null,
   "metadata": {
    "collapsed": false
   },
   "outputs": [],
   "source": [
    "generator = graph_generator()"
   ]
  },
  {
   "cell_type": "code",
   "execution_count": null,
   "metadata": {
    "collapsed": false
   },
   "outputs": [],
   "source": [
    "_, G = next(generator)"
   ]
  },
  {
   "cell_type": "code",
   "execution_count": null,
   "metadata": {
    "collapsed": false
   },
   "outputs": [],
   "source": [
    "coords = np.sqrt(2) * np.array([[0,0.5], [0.5,1], [0.5,0], [1,0.5]], dtype='float64')\n",
    "#coords = np.array([[0,0], [2,0], [0,1], [2,1]], dtype='float64')\n",
    "vein_distance(G)"
   ]
  },
  {
   "cell_type": "markdown",
   "metadata": {},
   "source": [
    "## Principal Component Analysis"
   ]
  },
  {
   "cell_type": "code",
   "execution_count": 3,
   "metadata": {
    "collapsed": false
   },
   "outputs": [],
   "source": [
    "data = read_features()"
   ]
  },
  {
   "cell_type": "code",
   "execution_count": null,
   "metadata": {
    "collapsed": false
   },
   "outputs": [],
   "source": [
    "feature_names = [\n",
    "    'topological_length',  \n",
    "    #'nesting_number_weighted_no_ext',\n",
    "    'nesting_number_unweighted',\n",
    "    'nesting_number_weighted',\n",
    "    #'nesting_number_unweighted_no_ext',\n",
    "    'vein_density',\n",
    "    'vein_distance',\n",
    "    'areole_area',\n",
    "    'areole_density',\n",
    "    'weighted_vein_thickness',\n",
    "    #'average_node_degree',\n",
    "    #'n_edges',\n",
    "    #'n_nodes',\n",
    "    \n",
    "]\n",
    "\n",
    "feature_labels = {\n",
    "    'topological_length'              : r'$L_{top}$',\n",
    "    'nesting_number_weighted'         : r'$i_w$',\n",
    "    'nesting_number_weighted_no_ext'  : r'$i_w^{no}$',\n",
    "    'nesting_number_unweighted'       : r'$i_u$',\n",
    "    'nesting_number_unweighted_no_ext': r'$i_u^{no}$',\n",
    "    'vein_density'                    : r'$\\sigma$',\n",
    "    'vein_distance'                   : r'$a$',\n",
    "    'areole_area'                     : r'$A$',\n",
    "    'areole_density'                  : r'$\\rho_A$',\n",
    "    'weighted_vein_thickness'         : r'$d$',\n",
    "    'average_node_degree'             : r'$deg_N$',\n",
    "    'n_edges'                         : r'$N_e$',\n",
    "    'n_nodes'                         : r'$N_n$',\n",
    "}"
   ]
  },
  {
   "cell_type": "code",
   "execution_count": null,
   "metadata": {
    "collapsed": false
   },
   "outputs": [],
   "source": [
    "network_ids = sorted(data['nesting_number_weighted'].keys())\n",
    "X = []\n",
    "for feature_name in feature_names:\n",
    "    row = [data[feature_name][network_id] for network_id in network_ids]\n",
    "    X.append(row)\n",
    "X = np.array(X)\n",
    "X = X.T\n",
    "X = X - np.mean(X, axis=0)\n",
    "X1 = X / np.std(X, axis=0)\n",
    "X2 = X / np.max(X, axis=0)\n",
    "\n",
    "np.std(X2, axis=0) / np.sum(np.std(X2, axis=0))"
   ]
  },
  {
   "cell_type": "code",
   "execution_count": null,
   "metadata": {
    "collapsed": false
   },
   "outputs": [],
   "source": [
    "for X in [X1, X2]:\n",
    "    pca = PCA()\n",
    "    pca.fit(X)\n",
    "    \n",
    "    normalized_eigenvalues = pca.explained_variance_ratio_\n",
    "    print(normalized_eigenvalues)\n",
    "    \n",
    "    principal_components = pca.components_\n",
    "    print(principal_components)\n",
    "    \n",
    "    scaled_principal_components = (normalized_eigenvalues * principal_components.T).T\n",
    "    #print(scaled_principal_components)\n",
    "    \n",
    "    relative_feature_contributions = np.sum(abs(scaled_principal_components), axis=0)\n",
    "    #print(relative_feature_contributions)\n",
    "    \n",
    "    \n",
    "    fig, ax = plt.subplots()\n",
    "    x = np.arange(len(relative_feature_contributions))\n",
    "    ax.bar(x, relative_feature_contributions)\n",
    "    labels = [feature_labels[name] for name in feature_names]\n",
    "    ax.set_xticks(x)\n",
    "    ax.set_xticklabels(labels)\n",
    "    \n",
    "    \n",
    "    width = 0.35\n",
    "\n",
    "    fig, ax = plt.subplots()\n",
    "    x = np.arange(len(relative_feature_contributions))\n",
    "    ax.bar(x, abs(principal_components[0,:]), width)\n",
    "    ax.bar(x + width, abs(principal_components[1,:]), width)\n",
    "    #ax.bar(x + 2*width, abs(principal_components[2,:]), width)\n",
    "\n",
    "    labels = [feature_labels[name] for name in feature_names]\n",
    "    ax.set_xticks(x + width/2)\n",
    "    ax.set_xticklabels(labels)"
   ]
  },
  {
   "cell_type": "code",
   "execution_count": null,
   "metadata": {
    "collapsed": false
   },
   "outputs": [],
   "source": []
  },
  {
   "cell_type": "code",
   "execution_count": null,
   "metadata": {
    "collapsed": false
   },
   "outputs": [],
   "source": []
  },
  {
   "cell_type": "code",
   "execution_count": null,
   "metadata": {
    "collapsed": false
   },
   "outputs": [],
   "source": []
  },
  {
   "cell_type": "code",
   "execution_count": null,
   "metadata": {
    "collapsed": false
   },
   "outputs": [],
   "source": []
  },
  {
   "cell_type": "code",
   "execution_count": null,
   "metadata": {
    "collapsed": false
   },
   "outputs": [],
   "source": [
    "save_feature(vein_distance, skip_existing=True, clean=True)"
   ]
  },
  {
   "cell_type": "code",
   "execution_count": null,
   "metadata": {
    "collapsed": false
   },
   "outputs": [],
   "source": []
  },
  {
   "cell_type": "code",
   "execution_count": null,
   "metadata": {
    "collapsed": true
   },
   "outputs": [],
   "source": []
  },
  {
   "cell_type": "code",
   "execution_count": null,
   "metadata": {
    "collapsed": true
   },
   "outputs": [],
   "source": []
  }
 ],
 "metadata": {
  "kernelspec": {
   "display_name": "Python 3",
   "language": "python",
   "name": "python3"
  },
  "language_info": {
   "codemirror_mode": {
    "name": "ipython",
    "version": 3
   },
   "file_extension": ".py",
   "mimetype": "text/x-python",
   "name": "python",
   "nbconvert_exporter": "python",
   "pygments_lexer": "ipython3",
   "version": "3.6.0"
  }
 },
 "nbformat": 4,
 "nbformat_minor": 2
}
